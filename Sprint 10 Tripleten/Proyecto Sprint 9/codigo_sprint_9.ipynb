{
 "cells": [
  {
   "cell_type": "markdown",
   "metadata": {},
   "source": [
    "# Descripción de los datos\n",
    "## Datos utilizados en la primera parte del proyecto\n",
    "\n",
    "/datasets/hypotheses_us.csv Descarga el dataset\n",
    "\n",
    "- Hypotheses: breves descripciones de las hipótesis\n",
    "- Reach: alcance del usuario, en una escala del uno a diez\n",
    "- Impact: impacto en los usuarios, en una escala del uno al diez\n",
    "- Confidence: confianza en la hipótesis, en una escala del uno al diez\n",
    "- Effort: los recursos necesarios para probar una hipótesis, en una escala del uno al diez. Cuanto mayor sea el valor Effort, más recursos requiere la prueba.\n",
    "\n",
    "## Datos utilizados en la segunda parte del proyecto\n",
    "\n",
    "## /datasets/orders_us.csv Descarga el dataset\n",
    "\n",
    "- transactionId: identificador de pedido\n",
    "- visitorId: identificador del usuario que realizó el pedido\n",
    "- date: fecha del pedido\n",
    "- revenue: ingresos del pedido\n",
    "- group: el grupo del test A/B al que pertenece el usuario\n",
    "\n",
    "## /datasets/visits_us.csv Descarga el dataset\n",
    "\n",
    "- date: la fecha\n",
    "- group: grupo del test A/B\n",
    "- visits: el número de visitas en la fecha especificada para el grupo de test A/B especificado\n",
    "\n",
    "\n",
    "# Parte 1. Priorizar hipótesis\n",
    "El archivo hypotheses_us.csv contiene nueve hipótesis sobre cómo aumentar los ingresos de una tienda en línea con Reach, Impact, Confidence y Effort especificados para cada una.\n",
    "\n",
    "## El ejercicio consiste en:\n",
    "\n",
    "- Aplicar el framework ICE para priorizar hipótesis. Ordenarlas en orden descendente de prioridad.\n",
    "- Aplicar el framework RICE para priorizar hipótesis. Ordenarlas en orden descendente de prioridad.\n",
    "- Mostrar cómo cambia la priorización de hipótesis cuando utilizas RICE en lugar de ICE. Proporcionar una explicación de los cambios.\n",
    "\n",
    "# Parte 2. Análisis de test A/B\n",
    "Realizaste un test A/B y obtuviste los resultados descritos en los archivos orders_us.csv y visitors_us.csv.\n",
    "\n",
    "## Ejercicio\n",
    "\n",
    "## Analiza el test A/B:\n",
    "\n",
    "- Representa gráficamente el ingreso acumulado por grupo. Haz conclusiones y conjeturas.\n",
    "- Representa gráficamente el tamaño de pedido promedio acumulado por grupo. Haz conclusiones y conjeturas.\n",
    "- Representa gráficamente la diferencia relativa en el tamaño de pedido promedio acumulado para el grupo B en comparación con el grupo A. Haz conclusiones y conjeturas.\n",
    "- Calcula la tasa de conversión de cada grupo como la relación entre los pedidos y el número de visitas de cada día. Representa gráficamente las tasas de conversión diarias de los dos grupos y describe la diferencia. Saca conclusiones y haz conjeturas.\n",
    "- Traza un gráfico de dispersión del número de pedidos por usuario. Haz conclusiones y conjeturas.\n",
    "- Calcula los percentiles 95 y 99 para el número de pedidos por usuario. Define el punto en el cual un punto de datos se convierte en una anomalía.\n",
    "- Traza un gráfico de dispersión de los precios de los pedidos. Haz conclusiones y conjeturas.\n",
    "- Calcula los percentiles 95 y 99 de los precios de los pedidos. Define el punto en el cual un punto de datos se convierte en una anomalía.\n",
    "- Encuentra la significancia estadística de la diferencia en la conversión entre los grupos utilizando los datos en bruto. Haz conclusiones y conjeturas.\n",
    "- Encuentra la significancia estadística de la diferencia en el tamaño promedio de pedido entre los grupos utilizando los datos en bruto. Haz conclusiones y conjeturas.\n",
    "- Encuentra la significancia estadística de la diferencia en la conversión entre los grupos utilizando los datos filtrados. Haz conclusiones y conjeturas.\n",
    "- Encuentra la significancia estadística de la diferencia en el tamaño promedio de pedido entre los grupos utilizando los datos filtrados. Haz conclusiones y conjeturas.\n",
    "- Toma una decisión basada en los resultados de la prueba. Las decisiones posibles son: 1. Para la prueba, considera a uno de los grupos como líder. 2. Para la prueba, concluye que no hay diferencia entre los grupos. 3. Continúa la prueba."
   ]
  },
  {
   "cell_type": "code",
   "execution_count": 156,
   "metadata": {},
   "outputs": [],
   "source": [
    "import pandas as pd\n",
    "import seaborn as sns \n",
    "import matplotlib.pyplot as plt\n",
    "import math\n",
    "import numpy as np\n",
    "from scipy import stats as st\n",
    "from IPython.display import display\n",
    "from scipy.stats import ttest_ind"
   ]
  },
  {
   "cell_type": "markdown",
   "metadata": {},
   "source": [
    "## Preprocesado de datos"
   ]
  },
  {
   "cell_type": "code",
   "execution_count": 157,
   "metadata": {},
   "outputs": [
    {
     "data": {
      "text/html": [
       "<div>\n",
       "<style scoped>\n",
       "    .dataframe tbody tr th:only-of-type {\n",
       "        vertical-align: middle;\n",
       "    }\n",
       "\n",
       "    .dataframe tbody tr th {\n",
       "        vertical-align: top;\n",
       "    }\n",
       "\n",
       "    .dataframe thead th {\n",
       "        text-align: right;\n",
       "    }\n",
       "</style>\n",
       "<table border=\"1\" class=\"dataframe\">\n",
       "  <thead>\n",
       "    <tr style=\"text-align: right;\">\n",
       "      <th></th>\n",
       "      <th>Hypothesis</th>\n",
       "      <th>Reach</th>\n",
       "      <th>Impact</th>\n",
       "      <th>Confidence</th>\n",
       "      <th>Effort</th>\n",
       "    </tr>\n",
       "  </thead>\n",
       "  <tbody>\n",
       "    <tr>\n",
       "      <th>0</th>\n",
       "      <td>Add two new channels for attracting traffic. T...</td>\n",
       "      <td>3</td>\n",
       "      <td>10</td>\n",
       "      <td>8</td>\n",
       "      <td>6</td>\n",
       "    </tr>\n",
       "    <tr>\n",
       "      <th>1</th>\n",
       "      <td>Launch your own delivery service. This will sh...</td>\n",
       "      <td>2</td>\n",
       "      <td>5</td>\n",
       "      <td>4</td>\n",
       "      <td>10</td>\n",
       "    </tr>\n",
       "    <tr>\n",
       "      <th>2</th>\n",
       "      <td>Add product recommendation blocks to the store...</td>\n",
       "      <td>8</td>\n",
       "      <td>3</td>\n",
       "      <td>7</td>\n",
       "      <td>3</td>\n",
       "    </tr>\n",
       "    <tr>\n",
       "      <th>3</th>\n",
       "      <td>Change the category structure. This will incre...</td>\n",
       "      <td>8</td>\n",
       "      <td>3</td>\n",
       "      <td>3</td>\n",
       "      <td>8</td>\n",
       "    </tr>\n",
       "    <tr>\n",
       "      <th>4</th>\n",
       "      <td>Change the background color on the main page. ...</td>\n",
       "      <td>3</td>\n",
       "      <td>1</td>\n",
       "      <td>1</td>\n",
       "      <td>1</td>\n",
       "    </tr>\n",
       "    <tr>\n",
       "      <th>5</th>\n",
       "      <td>Add a customer review page. This will increase...</td>\n",
       "      <td>3</td>\n",
       "      <td>2</td>\n",
       "      <td>2</td>\n",
       "      <td>3</td>\n",
       "    </tr>\n",
       "    <tr>\n",
       "      <th>6</th>\n",
       "      <td>Show banners with current offers and sales on ...</td>\n",
       "      <td>5</td>\n",
       "      <td>3</td>\n",
       "      <td>8</td>\n",
       "      <td>3</td>\n",
       "    </tr>\n",
       "    <tr>\n",
       "      <th>7</th>\n",
       "      <td>Add a subscription form to all the main pages....</td>\n",
       "      <td>10</td>\n",
       "      <td>7</td>\n",
       "      <td>8</td>\n",
       "      <td>5</td>\n",
       "    </tr>\n",
       "    <tr>\n",
       "      <th>8</th>\n",
       "      <td>Launch a promotion that gives users discounts ...</td>\n",
       "      <td>1</td>\n",
       "      <td>9</td>\n",
       "      <td>9</td>\n",
       "      <td>5</td>\n",
       "    </tr>\n",
       "  </tbody>\n",
       "</table>\n",
       "</div>"
      ],
      "text/plain": [
       "                                          Hypothesis  Reach  Impact  \\\n",
       "0  Add two new channels for attracting traffic. T...      3      10   \n",
       "1  Launch your own delivery service. This will sh...      2       5   \n",
       "2  Add product recommendation blocks to the store...      8       3   \n",
       "3  Change the category structure. This will incre...      8       3   \n",
       "4  Change the background color on the main page. ...      3       1   \n",
       "5  Add a customer review page. This will increase...      3       2   \n",
       "6  Show banners with current offers and sales on ...      5       3   \n",
       "7  Add a subscription form to all the main pages....     10       7   \n",
       "8  Launch a promotion that gives users discounts ...      1       9   \n",
       "\n",
       "   Confidence  Effort  \n",
       "0           8       6  \n",
       "1           4      10  \n",
       "2           7       3  \n",
       "3           3       8  \n",
       "4           1       1  \n",
       "5           2       3  \n",
       "6           8       3  \n",
       "7           8       5  \n",
       "8           9       5  "
      ]
     },
     "metadata": {},
     "output_type": "display_data"
    }
   ],
   "source": [
    "hypotheses = pd.read_csv(\"hypotheses_us.csv\", sep=';')\n",
    "display(hypotheses)"
   ]
  },
  {
   "cell_type": "code",
   "execution_count": 158,
   "metadata": {},
   "outputs": [],
   "source": [
    "hypotheses.columns = hypotheses.columns.str.lower()"
   ]
  },
  {
   "cell_type": "code",
   "execution_count": 159,
   "metadata": {},
   "outputs": [
    {
     "name": "stdout",
     "output_type": "stream",
     "text": [
      "<class 'pandas.core.frame.DataFrame'>\n",
      "RangeIndex: 9 entries, 0 to 8\n",
      "Data columns (total 5 columns):\n",
      " #   Column      Non-Null Count  Dtype \n",
      "---  ------      --------------  ----- \n",
      " 0   hypothesis  9 non-null      object\n",
      " 1   reach       9 non-null      int64 \n",
      " 2   impact      9 non-null      int64 \n",
      " 3   confidence  9 non-null      int64 \n",
      " 4   effort      9 non-null      int64 \n",
      "dtypes: int64(4), object(1)\n",
      "memory usage: 492.0+ bytes\n"
     ]
    }
   ],
   "source": [
    "hypotheses.info()"
   ]
  },
  {
   "cell_type": "code",
   "execution_count": 160,
   "metadata": {},
   "outputs": [
    {
     "data": {
      "text/html": [
       "<div>\n",
       "<style scoped>\n",
       "    .dataframe tbody tr th:only-of-type {\n",
       "        vertical-align: middle;\n",
       "    }\n",
       "\n",
       "    .dataframe tbody tr th {\n",
       "        vertical-align: top;\n",
       "    }\n",
       "\n",
       "    .dataframe thead th {\n",
       "        text-align: right;\n",
       "    }\n",
       "</style>\n",
       "<table border=\"1\" class=\"dataframe\">\n",
       "  <thead>\n",
       "    <tr style=\"text-align: right;\">\n",
       "      <th></th>\n",
       "      <th>transactionId</th>\n",
       "      <th>visitorId</th>\n",
       "      <th>date</th>\n",
       "      <th>revenue</th>\n",
       "      <th>group</th>\n",
       "    </tr>\n",
       "  </thead>\n",
       "  <tbody>\n",
       "    <tr>\n",
       "      <th>0</th>\n",
       "      <td>3667963787</td>\n",
       "      <td>3312258926</td>\n",
       "      <td>2019-08-15</td>\n",
       "      <td>30.4</td>\n",
       "      <td>B</td>\n",
       "    </tr>\n",
       "    <tr>\n",
       "      <th>1</th>\n",
       "      <td>2804400009</td>\n",
       "      <td>3642806036</td>\n",
       "      <td>2019-08-15</td>\n",
       "      <td>15.2</td>\n",
       "      <td>B</td>\n",
       "    </tr>\n",
       "    <tr>\n",
       "      <th>2</th>\n",
       "      <td>2961555356</td>\n",
       "      <td>4069496402</td>\n",
       "      <td>2019-08-15</td>\n",
       "      <td>10.2</td>\n",
       "      <td>A</td>\n",
       "    </tr>\n",
       "    <tr>\n",
       "      <th>3</th>\n",
       "      <td>3797467345</td>\n",
       "      <td>1196621759</td>\n",
       "      <td>2019-08-15</td>\n",
       "      <td>155.1</td>\n",
       "      <td>B</td>\n",
       "    </tr>\n",
       "    <tr>\n",
       "      <th>4</th>\n",
       "      <td>2282983706</td>\n",
       "      <td>2322279887</td>\n",
       "      <td>2019-08-15</td>\n",
       "      <td>40.5</td>\n",
       "      <td>B</td>\n",
       "    </tr>\n",
       "    <tr>\n",
       "      <th>...</th>\n",
       "      <td>...</td>\n",
       "      <td>...</td>\n",
       "      <td>...</td>\n",
       "      <td>...</td>\n",
       "      <td>...</td>\n",
       "    </tr>\n",
       "    <tr>\n",
       "      <th>1192</th>\n",
       "      <td>2662137336</td>\n",
       "      <td>3733762160</td>\n",
       "      <td>2019-08-14</td>\n",
       "      <td>100.8</td>\n",
       "      <td>B</td>\n",
       "    </tr>\n",
       "    <tr>\n",
       "      <th>1193</th>\n",
       "      <td>2203539145</td>\n",
       "      <td>370388673</td>\n",
       "      <td>2019-08-14</td>\n",
       "      <td>50.1</td>\n",
       "      <td>A</td>\n",
       "    </tr>\n",
       "    <tr>\n",
       "      <th>1194</th>\n",
       "      <td>1807773912</td>\n",
       "      <td>573423106</td>\n",
       "      <td>2019-08-14</td>\n",
       "      <td>165.3</td>\n",
       "      <td>A</td>\n",
       "    </tr>\n",
       "    <tr>\n",
       "      <th>1195</th>\n",
       "      <td>1947021204</td>\n",
       "      <td>1614305549</td>\n",
       "      <td>2019-08-14</td>\n",
       "      <td>5.5</td>\n",
       "      <td>A</td>\n",
       "    </tr>\n",
       "    <tr>\n",
       "      <th>1196</th>\n",
       "      <td>3936777065</td>\n",
       "      <td>2108080724</td>\n",
       "      <td>2019-08-15</td>\n",
       "      <td>3120.1</td>\n",
       "      <td>B</td>\n",
       "    </tr>\n",
       "  </tbody>\n",
       "</table>\n",
       "<p>1197 rows × 5 columns</p>\n",
       "</div>"
      ],
      "text/plain": [
       "      transactionId   visitorId        date  revenue group\n",
       "0        3667963787  3312258926  2019-08-15     30.4     B\n",
       "1        2804400009  3642806036  2019-08-15     15.2     B\n",
       "2        2961555356  4069496402  2019-08-15     10.2     A\n",
       "3        3797467345  1196621759  2019-08-15    155.1     B\n",
       "4        2282983706  2322279887  2019-08-15     40.5     B\n",
       "...             ...         ...         ...      ...   ...\n",
       "1192     2662137336  3733762160  2019-08-14    100.8     B\n",
       "1193     2203539145   370388673  2019-08-14     50.1     A\n",
       "1194     1807773912   573423106  2019-08-14    165.3     A\n",
       "1195     1947021204  1614305549  2019-08-14      5.5     A\n",
       "1196     3936777065  2108080724  2019-08-15   3120.1     B\n",
       "\n",
       "[1197 rows x 5 columns]"
      ]
     },
     "metadata": {},
     "output_type": "display_data"
    }
   ],
   "source": [
    "orders = pd.read_csv('orders_us.csv')\n",
    "display(orders)"
   ]
  },
  {
   "cell_type": "code",
   "execution_count": 161,
   "metadata": {},
   "outputs": [
    {
     "name": "stdout",
     "output_type": "stream",
     "text": [
      "<class 'pandas.core.frame.DataFrame'>\n",
      "RangeIndex: 1197 entries, 0 to 1196\n",
      "Data columns (total 5 columns):\n",
      " #   Column         Non-Null Count  Dtype  \n",
      "---  ------         --------------  -----  \n",
      " 0   transactionId  1197 non-null   int64  \n",
      " 1   visitorId      1197 non-null   int64  \n",
      " 2   date           1197 non-null   object \n",
      " 3   revenue        1197 non-null   float64\n",
      " 4   group          1197 non-null   object \n",
      "dtypes: float64(1), int64(2), object(2)\n",
      "memory usage: 46.9+ KB\n"
     ]
    }
   ],
   "source": [
    "orders.info()"
   ]
  },
  {
   "cell_type": "code",
   "execution_count": 162,
   "metadata": {},
   "outputs": [
    {
     "name": "stdout",
     "output_type": "stream",
     "text": [
      "<class 'pandas.core.frame.DataFrame'>\n",
      "RangeIndex: 1197 entries, 0 to 1196\n",
      "Data columns (total 5 columns):\n",
      " #   Column         Non-Null Count  Dtype         \n",
      "---  ------         --------------  -----         \n",
      " 0   transactionid  1197 non-null   int64         \n",
      " 1   visitorid      1197 non-null   int64         \n",
      " 2   date           1197 non-null   datetime64[ns]\n",
      " 3   revenue        1197 non-null   float64       \n",
      " 4   group          1197 non-null   object        \n",
      "dtypes: datetime64[ns](1), float64(1), int64(2), object(1)\n",
      "memory usage: 46.9+ KB\n"
     ]
    }
   ],
   "source": [
    "orders.columns = orders.columns.str.lower()\n",
    "orders['date'] = pd.to_datetime(orders['date'])\n",
    "\n",
    "orders.info()"
   ]
  },
  {
   "cell_type": "markdown",
   "metadata": {},
   "source": [
    "- Convierte los nombres de las columnas a minúsculas\n",
    "- Convierte la columna 'date' a tipo datetime"
   ]
  },
  {
   "cell_type": "code",
   "execution_count": 163,
   "metadata": {},
   "outputs": [
    {
     "data": {
      "text/plain": [
       "transactionid    0\n",
       "visitorid        0\n",
       "date             0\n",
       "revenue          0\n",
       "group            0\n",
       "dtype: int64"
      ]
     },
     "metadata": {},
     "output_type": "display_data"
    }
   ],
   "source": [
    "display(orders.isnull().sum())"
   ]
  },
  {
   "cell_type": "markdown",
   "metadata": {},
   "source": [
    "- No hay valores nulos en ninguna columna."
   ]
  },
  {
   "cell_type": "code",
   "execution_count": 164,
   "metadata": {},
   "outputs": [
    {
     "data": {
      "text/html": [
       "<div>\n",
       "<style scoped>\n",
       "    .dataframe tbody tr th:only-of-type {\n",
       "        vertical-align: middle;\n",
       "    }\n",
       "\n",
       "    .dataframe tbody tr th {\n",
       "        vertical-align: top;\n",
       "    }\n",
       "\n",
       "    .dataframe thead th {\n",
       "        text-align: right;\n",
       "    }\n",
       "</style>\n",
       "<table border=\"1\" class=\"dataframe\">\n",
       "  <thead>\n",
       "    <tr style=\"text-align: right;\">\n",
       "      <th></th>\n",
       "      <th>transactionid</th>\n",
       "      <th>visitorid</th>\n",
       "      <th>date</th>\n",
       "      <th>revenue</th>\n",
       "      <th>group</th>\n",
       "    </tr>\n",
       "  </thead>\n",
       "  <tbody>\n",
       "  </tbody>\n",
       "</table>\n",
       "</div>"
      ],
      "text/plain": [
       "Empty DataFrame\n",
       "Columns: [transactionid, visitorid, date, revenue, group]\n",
       "Index: []"
      ]
     },
     "metadata": {},
     "output_type": "display_data"
    }
   ],
   "source": [
    "duplicate_rows_orders = orders[orders.duplicated()]\n",
    "display(duplicate_rows_orders)"
   ]
  },
  {
   "cell_type": "markdown",
   "metadata": {},
   "source": [
    "- No hay valores duplicados"
   ]
  },
  {
   "cell_type": "code",
   "execution_count": 165,
   "metadata": {},
   "outputs": [
    {
     "data": {
      "text/html": [
       "<div>\n",
       "<style scoped>\n",
       "    .dataframe tbody tr th:only-of-type {\n",
       "        vertical-align: middle;\n",
       "    }\n",
       "\n",
       "    .dataframe tbody tr th {\n",
       "        vertical-align: top;\n",
       "    }\n",
       "\n",
       "    .dataframe thead th {\n",
       "        text-align: right;\n",
       "    }\n",
       "</style>\n",
       "<table border=\"1\" class=\"dataframe\">\n",
       "  <thead>\n",
       "    <tr style=\"text-align: right;\">\n",
       "      <th></th>\n",
       "      <th>date</th>\n",
       "      <th>group</th>\n",
       "      <th>visits</th>\n",
       "    </tr>\n",
       "  </thead>\n",
       "  <tbody>\n",
       "    <tr>\n",
       "      <th>0</th>\n",
       "      <td>2019-08-01</td>\n",
       "      <td>A</td>\n",
       "      <td>719</td>\n",
       "    </tr>\n",
       "    <tr>\n",
       "      <th>1</th>\n",
       "      <td>2019-08-02</td>\n",
       "      <td>A</td>\n",
       "      <td>619</td>\n",
       "    </tr>\n",
       "    <tr>\n",
       "      <th>2</th>\n",
       "      <td>2019-08-03</td>\n",
       "      <td>A</td>\n",
       "      <td>507</td>\n",
       "    </tr>\n",
       "    <tr>\n",
       "      <th>3</th>\n",
       "      <td>2019-08-04</td>\n",
       "      <td>A</td>\n",
       "      <td>717</td>\n",
       "    </tr>\n",
       "    <tr>\n",
       "      <th>4</th>\n",
       "      <td>2019-08-05</td>\n",
       "      <td>A</td>\n",
       "      <td>756</td>\n",
       "    </tr>\n",
       "    <tr>\n",
       "      <th>...</th>\n",
       "      <td>...</td>\n",
       "      <td>...</td>\n",
       "      <td>...</td>\n",
       "    </tr>\n",
       "    <tr>\n",
       "      <th>57</th>\n",
       "      <td>2019-08-27</td>\n",
       "      <td>B</td>\n",
       "      <td>720</td>\n",
       "    </tr>\n",
       "    <tr>\n",
       "      <th>58</th>\n",
       "      <td>2019-08-28</td>\n",
       "      <td>B</td>\n",
       "      <td>654</td>\n",
       "    </tr>\n",
       "    <tr>\n",
       "      <th>59</th>\n",
       "      <td>2019-08-29</td>\n",
       "      <td>B</td>\n",
       "      <td>531</td>\n",
       "    </tr>\n",
       "    <tr>\n",
       "      <th>60</th>\n",
       "      <td>2019-08-30</td>\n",
       "      <td>B</td>\n",
       "      <td>490</td>\n",
       "    </tr>\n",
       "    <tr>\n",
       "      <th>61</th>\n",
       "      <td>2019-08-31</td>\n",
       "      <td>B</td>\n",
       "      <td>718</td>\n",
       "    </tr>\n",
       "  </tbody>\n",
       "</table>\n",
       "<p>62 rows × 3 columns</p>\n",
       "</div>"
      ],
      "text/plain": [
       "          date group  visits\n",
       "0   2019-08-01     A     719\n",
       "1   2019-08-02     A     619\n",
       "2   2019-08-03     A     507\n",
       "3   2019-08-04     A     717\n",
       "4   2019-08-05     A     756\n",
       "..         ...   ...     ...\n",
       "57  2019-08-27     B     720\n",
       "58  2019-08-28     B     654\n",
       "59  2019-08-29     B     531\n",
       "60  2019-08-30     B     490\n",
       "61  2019-08-31     B     718\n",
       "\n",
       "[62 rows x 3 columns]"
      ]
     },
     "metadata": {},
     "output_type": "display_data"
    }
   ],
   "source": [
    "visits = pd.read_csv(\"visits_us.csv\")\n",
    "\n",
    "display(visits)"
   ]
  },
  {
   "cell_type": "code",
   "execution_count": 166,
   "metadata": {},
   "outputs": [
    {
     "name": "stdout",
     "output_type": "stream",
     "text": [
      "<class 'pandas.core.frame.DataFrame'>\n",
      "RangeIndex: 62 entries, 0 to 61\n",
      "Data columns (total 3 columns):\n",
      " #   Column  Non-Null Count  Dtype \n",
      "---  ------  --------------  ----- \n",
      " 0   date    62 non-null     object\n",
      " 1   group   62 non-null     object\n",
      " 2   visits  62 non-null     int64 \n",
      "dtypes: int64(1), object(2)\n",
      "memory usage: 1.6+ KB\n"
     ]
    }
   ],
   "source": [
    "visits.info()"
   ]
  },
  {
   "cell_type": "code",
   "execution_count": 167,
   "metadata": {},
   "outputs": [
    {
     "name": "stdout",
     "output_type": "stream",
     "text": [
      "<class 'pandas.core.frame.DataFrame'>\n",
      "RangeIndex: 62 entries, 0 to 61\n",
      "Data columns (total 3 columns):\n",
      " #   Column  Non-Null Count  Dtype         \n",
      "---  ------  --------------  -----         \n",
      " 0   date    62 non-null     datetime64[ns]\n",
      " 1   group   62 non-null     object        \n",
      " 2   visits  62 non-null     int64         \n",
      "dtypes: datetime64[ns](1), int64(1), object(1)\n",
      "memory usage: 1.6+ KB\n"
     ]
    }
   ],
   "source": [
    "visits['date'] = pd.to_datetime(visits['date'])\n",
    "\n",
    "\n",
    "visits.info()"
   ]
  },
  {
   "cell_type": "code",
   "execution_count": 168,
   "metadata": {},
   "outputs": [
    {
     "data": {
      "text/plain": [
       "date      0\n",
       "group     0\n",
       "visits    0\n",
       "dtype: int64"
      ]
     },
     "metadata": {},
     "output_type": "display_data"
    }
   ],
   "source": [
    "display(visits.isnull().sum())"
   ]
  },
  {
   "cell_type": "markdown",
   "metadata": {},
   "source": [
    "- No hay valores nulos"
   ]
  },
  {
   "cell_type": "code",
   "execution_count": 169,
   "metadata": {},
   "outputs": [
    {
     "data": {
      "text/html": [
       "<div>\n",
       "<style scoped>\n",
       "    .dataframe tbody tr th:only-of-type {\n",
       "        vertical-align: middle;\n",
       "    }\n",
       "\n",
       "    .dataframe tbody tr th {\n",
       "        vertical-align: top;\n",
       "    }\n",
       "\n",
       "    .dataframe thead th {\n",
       "        text-align: right;\n",
       "    }\n",
       "</style>\n",
       "<table border=\"1\" class=\"dataframe\">\n",
       "  <thead>\n",
       "    <tr style=\"text-align: right;\">\n",
       "      <th></th>\n",
       "      <th>date</th>\n",
       "      <th>group</th>\n",
       "      <th>visits</th>\n",
       "    </tr>\n",
       "  </thead>\n",
       "  <tbody>\n",
       "  </tbody>\n",
       "</table>\n",
       "</div>"
      ],
      "text/plain": [
       "Empty DataFrame\n",
       "Columns: [date, group, visits]\n",
       "Index: []"
      ]
     },
     "metadata": {},
     "output_type": "display_data"
    }
   ],
   "source": [
    "duplicate_rows_visits = visits[visits.duplicated()]\n",
    "display(duplicate_rows_visits)"
   ]
  },
  {
   "cell_type": "markdown",
   "metadata": {},
   "source": [
    "- No hay valores duplicados "
   ]
  },
  {
   "cell_type": "markdown",
   "metadata": {},
   "source": [
    "# Parte 1. Priorizar hipótesis\n",
    "El archivo hypotheses_us.csv contiene nueve hipótesis sobre cómo aumentar los ingresos de una tienda en línea con Reach, Impact, Confidence y Effort especificados para cada una.\n",
    "\n",
    "## El ejercicio consiste en:\n",
    "\n",
    "- Aplicar el framework ICE para priorizar hipótesis. Ordenarlas en orden descendente de prioridad.\n",
    "- Aplicar el framework RICE para priorizar hipótesis. Ordenarlas en orden descendente de prioridad.\n",
    "- Mostrar cómo cambia la priorización de hipótesis cuando utilizas RICE en lugar de ICE. Proporcionar una explicación de los cambios."
   ]
  },
  {
   "cell_type": "code",
   "execution_count": 170,
   "metadata": {},
   "outputs": [
    {
     "data": {
      "text/html": [
       "<div>\n",
       "<style scoped>\n",
       "    .dataframe tbody tr th:only-of-type {\n",
       "        vertical-align: middle;\n",
       "    }\n",
       "\n",
       "    .dataframe tbody tr th {\n",
       "        vertical-align: top;\n",
       "    }\n",
       "\n",
       "    .dataframe thead th {\n",
       "        text-align: right;\n",
       "    }\n",
       "</style>\n",
       "<table border=\"1\" class=\"dataframe\">\n",
       "  <thead>\n",
       "    <tr style=\"text-align: right;\">\n",
       "      <th></th>\n",
       "      <th>hypothesis</th>\n",
       "      <th>reach</th>\n",
       "      <th>impact</th>\n",
       "      <th>confidence</th>\n",
       "      <th>effort</th>\n",
       "    </tr>\n",
       "  </thead>\n",
       "  <tbody>\n",
       "    <tr>\n",
       "      <th>0</th>\n",
       "      <td>Add two new channels for attracting traffic. T...</td>\n",
       "      <td>3</td>\n",
       "      <td>10</td>\n",
       "      <td>8</td>\n",
       "      <td>6</td>\n",
       "    </tr>\n",
       "    <tr>\n",
       "      <th>1</th>\n",
       "      <td>Launch your own delivery service. This will sh...</td>\n",
       "      <td>2</td>\n",
       "      <td>5</td>\n",
       "      <td>4</td>\n",
       "      <td>10</td>\n",
       "    </tr>\n",
       "    <tr>\n",
       "      <th>2</th>\n",
       "      <td>Add product recommendation blocks to the store...</td>\n",
       "      <td>8</td>\n",
       "      <td>3</td>\n",
       "      <td>7</td>\n",
       "      <td>3</td>\n",
       "    </tr>\n",
       "    <tr>\n",
       "      <th>3</th>\n",
       "      <td>Change the category structure. This will incre...</td>\n",
       "      <td>8</td>\n",
       "      <td>3</td>\n",
       "      <td>3</td>\n",
       "      <td>8</td>\n",
       "    </tr>\n",
       "    <tr>\n",
       "      <th>4</th>\n",
       "      <td>Change the background color on the main page. ...</td>\n",
       "      <td>3</td>\n",
       "      <td>1</td>\n",
       "      <td>1</td>\n",
       "      <td>1</td>\n",
       "    </tr>\n",
       "    <tr>\n",
       "      <th>5</th>\n",
       "      <td>Add a customer review page. This will increase...</td>\n",
       "      <td>3</td>\n",
       "      <td>2</td>\n",
       "      <td>2</td>\n",
       "      <td>3</td>\n",
       "    </tr>\n",
       "    <tr>\n",
       "      <th>6</th>\n",
       "      <td>Show banners with current offers and sales on ...</td>\n",
       "      <td>5</td>\n",
       "      <td>3</td>\n",
       "      <td>8</td>\n",
       "      <td>3</td>\n",
       "    </tr>\n",
       "    <tr>\n",
       "      <th>7</th>\n",
       "      <td>Add a subscription form to all the main pages....</td>\n",
       "      <td>10</td>\n",
       "      <td>7</td>\n",
       "      <td>8</td>\n",
       "      <td>5</td>\n",
       "    </tr>\n",
       "    <tr>\n",
       "      <th>8</th>\n",
       "      <td>Launch a promotion that gives users discounts ...</td>\n",
       "      <td>1</td>\n",
       "      <td>9</td>\n",
       "      <td>9</td>\n",
       "      <td>5</td>\n",
       "    </tr>\n",
       "  </tbody>\n",
       "</table>\n",
       "</div>"
      ],
      "text/plain": [
       "                                          hypothesis  reach  impact  \\\n",
       "0  Add two new channels for attracting traffic. T...      3      10   \n",
       "1  Launch your own delivery service. This will sh...      2       5   \n",
       "2  Add product recommendation blocks to the store...      8       3   \n",
       "3  Change the category structure. This will incre...      8       3   \n",
       "4  Change the background color on the main page. ...      3       1   \n",
       "5  Add a customer review page. This will increase...      3       2   \n",
       "6  Show banners with current offers and sales on ...      5       3   \n",
       "7  Add a subscription form to all the main pages....     10       7   \n",
       "8  Launch a promotion that gives users discounts ...      1       9   \n",
       "\n",
       "   confidence  effort  \n",
       "0           8       6  \n",
       "1           4      10  \n",
       "2           7       3  \n",
       "3           3       8  \n",
       "4           1       1  \n",
       "5           2       3  \n",
       "6           8       3  \n",
       "7           8       5  \n",
       "8           9       5  "
      ]
     },
     "execution_count": 170,
     "metadata": {},
     "output_type": "execute_result"
    }
   ],
   "source": [
    "hypotheses"
   ]
  },
  {
   "cell_type": "code",
   "execution_count": 171,
   "metadata": {},
   "outputs": [
    {
     "data": {
      "text/html": [
       "<div>\n",
       "<style scoped>\n",
       "    .dataframe tbody tr th:only-of-type {\n",
       "        vertical-align: middle;\n",
       "    }\n",
       "\n",
       "    .dataframe tbody tr th {\n",
       "        vertical-align: top;\n",
       "    }\n",
       "\n",
       "    .dataframe thead th {\n",
       "        text-align: right;\n",
       "    }\n",
       "</style>\n",
       "<table border=\"1\" class=\"dataframe\">\n",
       "  <thead>\n",
       "    <tr style=\"text-align: right;\">\n",
       "      <th></th>\n",
       "      <th>hypothesis</th>\n",
       "      <th>ICE</th>\n",
       "    </tr>\n",
       "  </thead>\n",
       "  <tbody>\n",
       "    <tr>\n",
       "      <th>8</th>\n",
       "      <td>Launch a promotion that gives users discounts ...</td>\n",
       "      <td>16.200000</td>\n",
       "    </tr>\n",
       "    <tr>\n",
       "      <th>0</th>\n",
       "      <td>Add two new channels for attracting traffic. T...</td>\n",
       "      <td>13.333333</td>\n",
       "    </tr>\n",
       "    <tr>\n",
       "      <th>7</th>\n",
       "      <td>Add a subscription form to all the main pages....</td>\n",
       "      <td>11.200000</td>\n",
       "    </tr>\n",
       "    <tr>\n",
       "      <th>6</th>\n",
       "      <td>Show banners with current offers and sales on ...</td>\n",
       "      <td>8.000000</td>\n",
       "    </tr>\n",
       "    <tr>\n",
       "      <th>2</th>\n",
       "      <td>Add product recommendation blocks to the store...</td>\n",
       "      <td>7.000000</td>\n",
       "    </tr>\n",
       "    <tr>\n",
       "      <th>1</th>\n",
       "      <td>Launch your own delivery service. This will sh...</td>\n",
       "      <td>2.000000</td>\n",
       "    </tr>\n",
       "    <tr>\n",
       "      <th>5</th>\n",
       "      <td>Add a customer review page. This will increase...</td>\n",
       "      <td>1.333333</td>\n",
       "    </tr>\n",
       "    <tr>\n",
       "      <th>3</th>\n",
       "      <td>Change the category structure. This will incre...</td>\n",
       "      <td>1.125000</td>\n",
       "    </tr>\n",
       "    <tr>\n",
       "      <th>4</th>\n",
       "      <td>Change the background color on the main page. ...</td>\n",
       "      <td>1.000000</td>\n",
       "    </tr>\n",
       "  </tbody>\n",
       "</table>\n",
       "</div>"
      ],
      "text/plain": [
       "                                          hypothesis        ICE\n",
       "8  Launch a promotion that gives users discounts ...  16.200000\n",
       "0  Add two new channels for attracting traffic. T...  13.333333\n",
       "7  Add a subscription form to all the main pages....  11.200000\n",
       "6  Show banners with current offers and sales on ...   8.000000\n",
       "2  Add product recommendation blocks to the store...   7.000000\n",
       "1  Launch your own delivery service. This will sh...   2.000000\n",
       "5  Add a customer review page. This will increase...   1.333333\n",
       "3  Change the category structure. This will incre...   1.125000\n",
       "4  Change the background color on the main page. ...   1.000000"
      ]
     },
     "metadata": {},
     "output_type": "display_data"
    }
   ],
   "source": [
    "hypotheses['ICE'] = (hypotheses['impact'] * hypotheses['confidence'] / hypotheses['effort'])\n",
    "\n",
    "display(hypotheses[['hypothesis', 'ICE']].sort_values(by='ICE', ascending=False))"
   ]
  },
  {
   "cell_type": "code",
   "execution_count": 172,
   "metadata": {},
   "outputs": [
    {
     "data": {
      "text/html": [
       "<div>\n",
       "<style scoped>\n",
       "    .dataframe tbody tr th:only-of-type {\n",
       "        vertical-align: middle;\n",
       "    }\n",
       "\n",
       "    .dataframe tbody tr th {\n",
       "        vertical-align: top;\n",
       "    }\n",
       "\n",
       "    .dataframe thead th {\n",
       "        text-align: right;\n",
       "    }\n",
       "</style>\n",
       "<table border=\"1\" class=\"dataframe\">\n",
       "  <thead>\n",
       "    <tr style=\"text-align: right;\">\n",
       "      <th></th>\n",
       "      <th>hypothesis</th>\n",
       "      <th>RICE</th>\n",
       "    </tr>\n",
       "  </thead>\n",
       "  <tbody>\n",
       "    <tr>\n",
       "      <th>7</th>\n",
       "      <td>Add a subscription form to all the main pages....</td>\n",
       "      <td>112.0</td>\n",
       "    </tr>\n",
       "    <tr>\n",
       "      <th>2</th>\n",
       "      <td>Add product recommendation blocks to the store...</td>\n",
       "      <td>56.0</td>\n",
       "    </tr>\n",
       "    <tr>\n",
       "      <th>0</th>\n",
       "      <td>Add two new channels for attracting traffic. T...</td>\n",
       "      <td>40.0</td>\n",
       "    </tr>\n",
       "    <tr>\n",
       "      <th>6</th>\n",
       "      <td>Show banners with current offers and sales on ...</td>\n",
       "      <td>40.0</td>\n",
       "    </tr>\n",
       "    <tr>\n",
       "      <th>8</th>\n",
       "      <td>Launch a promotion that gives users discounts ...</td>\n",
       "      <td>16.2</td>\n",
       "    </tr>\n",
       "    <tr>\n",
       "      <th>3</th>\n",
       "      <td>Change the category structure. This will incre...</td>\n",
       "      <td>9.0</td>\n",
       "    </tr>\n",
       "    <tr>\n",
       "      <th>1</th>\n",
       "      <td>Launch your own delivery service. This will sh...</td>\n",
       "      <td>4.0</td>\n",
       "    </tr>\n",
       "    <tr>\n",
       "      <th>5</th>\n",
       "      <td>Add a customer review page. This will increase...</td>\n",
       "      <td>4.0</td>\n",
       "    </tr>\n",
       "    <tr>\n",
       "      <th>4</th>\n",
       "      <td>Change the background color on the main page. ...</td>\n",
       "      <td>3.0</td>\n",
       "    </tr>\n",
       "  </tbody>\n",
       "</table>\n",
       "</div>"
      ],
      "text/plain": [
       "                                          hypothesis   RICE\n",
       "7  Add a subscription form to all the main pages....  112.0\n",
       "2  Add product recommendation blocks to the store...   56.0\n",
       "0  Add two new channels for attracting traffic. T...   40.0\n",
       "6  Show banners with current offers and sales on ...   40.0\n",
       "8  Launch a promotion that gives users discounts ...   16.2\n",
       "3  Change the category structure. This will incre...    9.0\n",
       "1  Launch your own delivery service. This will sh...    4.0\n",
       "5  Add a customer review page. This will increase...    4.0\n",
       "4  Change the background color on the main page. ...    3.0"
      ]
     },
     "metadata": {},
     "output_type": "display_data"
    }
   ],
   "source": [
    "hypotheses['RICE'] = (hypotheses['reach'] * hypotheses['impact'] * hypotheses['confidence'] / hypotheses['effort'])\n",
    "\n",
    "display(hypotheses[['hypothesis', 'RICE']].sort_values(by='RICE', ascending=False))"
   ]
  },
  {
   "cell_type": "code",
   "execution_count": 173,
   "metadata": {},
   "outputs": [
    {
     "data": {
      "text/html": [
       "<div>\n",
       "<style scoped>\n",
       "    .dataframe tbody tr th:only-of-type {\n",
       "        vertical-align: middle;\n",
       "    }\n",
       "\n",
       "    .dataframe tbody tr th {\n",
       "        vertical-align: top;\n",
       "    }\n",
       "\n",
       "    .dataframe thead th {\n",
       "        text-align: right;\n",
       "    }\n",
       "</style>\n",
       "<table border=\"1\" class=\"dataframe\">\n",
       "  <thead>\n",
       "    <tr style=\"text-align: right;\">\n",
       "      <th></th>\n",
       "      <th>hypothesis</th>\n",
       "      <th>reach</th>\n",
       "      <th>impact</th>\n",
       "      <th>confidence</th>\n",
       "      <th>effort</th>\n",
       "      <th>ICE</th>\n",
       "      <th>RICE</th>\n",
       "    </tr>\n",
       "  </thead>\n",
       "  <tbody>\n",
       "    <tr>\n",
       "      <th>0</th>\n",
       "      <td>Add two new channels for attracting traffic. T...</td>\n",
       "      <td>3</td>\n",
       "      <td>10</td>\n",
       "      <td>8</td>\n",
       "      <td>6</td>\n",
       "      <td>13.333333</td>\n",
       "      <td>40.0</td>\n",
       "    </tr>\n",
       "    <tr>\n",
       "      <th>1</th>\n",
       "      <td>Launch your own delivery service. This will sh...</td>\n",
       "      <td>2</td>\n",
       "      <td>5</td>\n",
       "      <td>4</td>\n",
       "      <td>10</td>\n",
       "      <td>2.000000</td>\n",
       "      <td>4.0</td>\n",
       "    </tr>\n",
       "    <tr>\n",
       "      <th>2</th>\n",
       "      <td>Add product recommendation blocks to the store...</td>\n",
       "      <td>8</td>\n",
       "      <td>3</td>\n",
       "      <td>7</td>\n",
       "      <td>3</td>\n",
       "      <td>7.000000</td>\n",
       "      <td>56.0</td>\n",
       "    </tr>\n",
       "    <tr>\n",
       "      <th>3</th>\n",
       "      <td>Change the category structure. This will incre...</td>\n",
       "      <td>8</td>\n",
       "      <td>3</td>\n",
       "      <td>3</td>\n",
       "      <td>8</td>\n",
       "      <td>1.125000</td>\n",
       "      <td>9.0</td>\n",
       "    </tr>\n",
       "    <tr>\n",
       "      <th>4</th>\n",
       "      <td>Change the background color on the main page. ...</td>\n",
       "      <td>3</td>\n",
       "      <td>1</td>\n",
       "      <td>1</td>\n",
       "      <td>1</td>\n",
       "      <td>1.000000</td>\n",
       "      <td>3.0</td>\n",
       "    </tr>\n",
       "    <tr>\n",
       "      <th>5</th>\n",
       "      <td>Add a customer review page. This will increase...</td>\n",
       "      <td>3</td>\n",
       "      <td>2</td>\n",
       "      <td>2</td>\n",
       "      <td>3</td>\n",
       "      <td>1.333333</td>\n",
       "      <td>4.0</td>\n",
       "    </tr>\n",
       "    <tr>\n",
       "      <th>6</th>\n",
       "      <td>Show banners with current offers and sales on ...</td>\n",
       "      <td>5</td>\n",
       "      <td>3</td>\n",
       "      <td>8</td>\n",
       "      <td>3</td>\n",
       "      <td>8.000000</td>\n",
       "      <td>40.0</td>\n",
       "    </tr>\n",
       "    <tr>\n",
       "      <th>7</th>\n",
       "      <td>Add a subscription form to all the main pages....</td>\n",
       "      <td>10</td>\n",
       "      <td>7</td>\n",
       "      <td>8</td>\n",
       "      <td>5</td>\n",
       "      <td>11.200000</td>\n",
       "      <td>112.0</td>\n",
       "    </tr>\n",
       "    <tr>\n",
       "      <th>8</th>\n",
       "      <td>Launch a promotion that gives users discounts ...</td>\n",
       "      <td>1</td>\n",
       "      <td>9</td>\n",
       "      <td>9</td>\n",
       "      <td>5</td>\n",
       "      <td>16.200000</td>\n",
       "      <td>16.2</td>\n",
       "    </tr>\n",
       "  </tbody>\n",
       "</table>\n",
       "</div>"
      ],
      "text/plain": [
       "                                          hypothesis  reach  impact  \\\n",
       "0  Add two new channels for attracting traffic. T...      3      10   \n",
       "1  Launch your own delivery service. This will sh...      2       5   \n",
       "2  Add product recommendation blocks to the store...      8       3   \n",
       "3  Change the category structure. This will incre...      8       3   \n",
       "4  Change the background color on the main page. ...      3       1   \n",
       "5  Add a customer review page. This will increase...      3       2   \n",
       "6  Show banners with current offers and sales on ...      5       3   \n",
       "7  Add a subscription form to all the main pages....     10       7   \n",
       "8  Launch a promotion that gives users discounts ...      1       9   \n",
       "\n",
       "   confidence  effort        ICE   RICE  \n",
       "0           8       6  13.333333   40.0  \n",
       "1           4      10   2.000000    4.0  \n",
       "2           7       3   7.000000   56.0  \n",
       "3           3       8   1.125000    9.0  \n",
       "4           1       1   1.000000    3.0  \n",
       "5           2       3   1.333333    4.0  \n",
       "6           8       3   8.000000   40.0  \n",
       "7           8       5  11.200000  112.0  \n",
       "8           9       5  16.200000   16.2  "
      ]
     },
     "execution_count": 173,
     "metadata": {},
     "output_type": "execute_result"
    }
   ],
   "source": [
    "hypotheses"
   ]
  },
  {
   "cell_type": "code",
   "execution_count": 174,
   "metadata": {},
   "outputs": [
    {
     "data": {
      "image/png": "[encoded data removed]",
      "text/plain": [
       "<Figure size 800x400 with 1 Axes>"
      ]
     },
     "metadata": {},
     "output_type": "display_data"
    }
   ],
   "source": [
    "# Crear el diagrama de dispersión\n",
    "plt.figure(figsize=(8,4))\n",
    "sns.scatterplot(data=hypotheses, x='ICE', y='RICE')\n",
    "\n",
    "# Añadir título y etiquetas\n",
    "plt.title('Diagrama de Dispersión: RICE vs ICE')\n",
    "plt.xlabel('ICE')\n",
    "plt.ylabel('RICE')\n",
    "\n",
    "# Mostrar el gráfico\n",
    "plt.show()"
   ]
  },
  {
   "cell_type": "markdown",
   "metadata": {},
   "source": [
    "##  Cambios en la priorización utilizando RICE frente a ICE:\n",
    "### Agregar un formulario de suscripción en todas las páginas principales (RICE: 112.0, ICE: 11.20)\n",
    "Con RICE, esta hipótesis es claramente la de mayor prioridad, debido al alto alcance (reach = 10), lo que significa que afectará a la mayoría de los usuarios. Aunque en ICE también tiene una alta prioridad, no alcanza el primer lugar porque el factor \"reach\" no está presente.\n",
    "\n",
    "### Agregar bloques de recomendación de productos en la tienda (RICE: 56.0, ICE: 7.00)\n",
    "Esta hipótesis se prioriza más en RICE que en ICE debido a que el alcance (reach = 8) amplifica su valor. En ICE, aunque tiene un impacto moderado, su ranking baja porque el modelo no toma en cuenta cuántos usuarios se ven afectados.\n",
    "\n",
    "### Mostrar banners con ofertas actuales (RICE: 40.0, ICE: 8.00)\n",
    "Los banners tienen una puntuación igual en ambos modelos, lo que sugiere que el alcance y otros factores (impacto, confianza, esfuerzo) están equilibrados. En este caso, RICE y ICE no varían significativamente la prioridad.\n",
    "\n",
    "## Explicación de los cambios:\n",
    "- RICE prioriza hipótesis con mayor alcance (reach), lo que significa que afecta a una mayor cantidad de usuarios. Hipótesis como \"Agregar un formulario de suscripción\" y \"Agregar bloques de recomendación\" suben en prioridad en RICE porque afectan a muchos usuarios.\n",
    "- ICE prioriza hipótesis con mayor impacto y confianza, pero sin tener en cuenta el alcance. Esto hace que algunas hipótesis con mayor impacto relativo, pero menor alcance, como \"Agregar dos nuevos canales para atraer tráfico\", aparezcan más arriba en ICE que en RICE.\n",
    "- Cambios menos visibles en ICE: Ideas como \"Cambiar el color de fondo\" o \"Agregar una página de reseñas\" siguen teniendo poca prioridad en ambos modelos, ya que no son consideradas lo suficientemente impactantes o con suficiente alcance."
   ]
  },
  {
   "cell_type": "markdown",
   "metadata": {},
   "source": [
    "## Parte 2. Análisis de test A/B\n",
    "Realizaste un test A/B y obtuviste los resultados descritos en los archivos orders_us.csv y visitors_us.csv.\n",
    "\n",
    "### Ejercicio\n",
    "\n",
    "### Analiza el test A/B:\n",
    "\n",
    "- 2.1 Representa gráficamente el ingreso acumulado por grupo. Haz conclusiones y conjeturas.\n",
    "- 2.2 Representa gráficamente el tamaño de pedido promedio acumulado por grupo. Haz conclusiones y conjeturas.\n",
    "- 2.3 Representa gráficamente la diferencia relativa en el tamaño de pedido promedio acumulado para el grupo B en comparación con el grupo A. Haz conclusiones y conjeturas.\n",
    "- 2.4 Calcula la tasa de conversión de cada grupo como la relación entre los pedidos y el número de visitas de cada día. Representa gráficamente las tasas de conversión diarias de los dos grupos y describe la diferencia. Saca conclusiones y haz conjeturas.\n",
    "- 2.5 Traza un gráfico de dispersión del número de pedidos por usuario. Haz conclusiones y conjeturas.\n",
    "- 2.6 Calcula los percentiles 95 y 99 para el número de pedidos por usuario. Define el punto en el cual un punto de datos se convierte en una anomalía.\n",
    "- 2.7 Traza un gráfico de dispersión de los precios de los pedidos. Haz conclusiones y conjeturas.\n",
    "- 2.8 Calcula los percentiles 95 y 99 de los precios de los pedidos. Define el punto en el cual un punto de datos se convierte en una anomalía.\n",
    "- 2.9 Encuentra la significancia estadística de la diferencia en la conversión entre los grupos utilizando los datos en bruto. Haz conclusiones y conjeturas.\n",
    "- 2.10 Encuentra la significancia estadística de la diferencia en el tamaño promedio de pedido entre los grupos utilizando los datos en bruto. Haz conclusiones y conjeturas.\n",
    "- 2.11 Encuentra la significancia estadística de la diferencia en la conversión entre los grupos utilizando los datos filtrados. Haz conclusiones y conjeturas.\n",
    "- 2.12 Encuentra la significancia estadística de la diferencia en el tamaño promedio de pedido entre los grupos utilizando los datos filtrados. Haz conclusiones y conjeturas.\n",
    "- 2.13 Toma una decisión basada en los resultados de la prueba. Las decisiones posibles son: 1. Para la prueba, considera a uno de los grupos como líder. 2. Para la prueba, concluye que no hay diferencia entre los grupos. 3. Continúa la prueba."
   ]
  },
  {
   "cell_type": "markdown",
   "metadata": {},
   "source": [
    "## - 2.1 Representa gráficamente el ingreso acumulado por grupo. Haz conclusiones y conjeturas."
   ]
  },
  {
   "cell_type": "code",
   "execution_count": 175,
   "metadata": {},
   "outputs": [
    {
     "data": {
      "text/html": [
       "<div>\n",
       "<style scoped>\n",
       "    .dataframe tbody tr th:only-of-type {\n",
       "        vertical-align: middle;\n",
       "    }\n",
       "\n",
       "    .dataframe tbody tr th {\n",
       "        vertical-align: top;\n",
       "    }\n",
       "\n",
       "    .dataframe thead th {\n",
       "        text-align: right;\n",
       "    }\n",
       "</style>\n",
       "<table border=\"1\" class=\"dataframe\">\n",
       "  <thead>\n",
       "    <tr style=\"text-align: right;\">\n",
       "      <th></th>\n",
       "      <th>transactionid</th>\n",
       "      <th>visitorid</th>\n",
       "      <th>date</th>\n",
       "      <th>revenue</th>\n",
       "      <th>group</th>\n",
       "    </tr>\n",
       "  </thead>\n",
       "  <tbody>\n",
       "    <tr>\n",
       "      <th>0</th>\n",
       "      <td>3667963787</td>\n",
       "      <td>3312258926</td>\n",
       "      <td>2019-08-15</td>\n",
       "      <td>30.4</td>\n",
       "      <td>B</td>\n",
       "    </tr>\n",
       "    <tr>\n",
       "      <th>1</th>\n",
       "      <td>2804400009</td>\n",
       "      <td>3642806036</td>\n",
       "      <td>2019-08-15</td>\n",
       "      <td>15.2</td>\n",
       "      <td>B</td>\n",
       "    </tr>\n",
       "  </tbody>\n",
       "</table>\n",
       "</div>"
      ],
      "text/plain": [
       "   transactionid   visitorid       date  revenue group\n",
       "0     3667963787  3312258926 2019-08-15     30.4     B\n",
       "1     2804400009  3642806036 2019-08-15     15.2     B"
      ]
     },
     "execution_count": 175,
     "metadata": {},
     "output_type": "execute_result"
    }
   ],
   "source": [
    "orders.head(2)"
   ]
  },
  {
   "cell_type": "code",
   "execution_count": 176,
   "metadata": {},
   "outputs": [
    {
     "data": {
      "text/html": [
       "<div>\n",
       "<style scoped>\n",
       "    .dataframe tbody tr th:only-of-type {\n",
       "        vertical-align: middle;\n",
       "    }\n",
       "\n",
       "    .dataframe tbody tr th {\n",
       "        vertical-align: top;\n",
       "    }\n",
       "\n",
       "    .dataframe thead th {\n",
       "        text-align: right;\n",
       "    }\n",
       "</style>\n",
       "<table border=\"1\" class=\"dataframe\">\n",
       "  <thead>\n",
       "    <tr style=\"text-align: right;\">\n",
       "      <th></th>\n",
       "      <th>date</th>\n",
       "      <th>group</th>\n",
       "      <th>visits</th>\n",
       "    </tr>\n",
       "  </thead>\n",
       "  <tbody>\n",
       "    <tr>\n",
       "      <th>0</th>\n",
       "      <td>2019-08-01</td>\n",
       "      <td>A</td>\n",
       "      <td>719</td>\n",
       "    </tr>\n",
       "    <tr>\n",
       "      <th>1</th>\n",
       "      <td>2019-08-02</td>\n",
       "      <td>A</td>\n",
       "      <td>619</td>\n",
       "    </tr>\n",
       "  </tbody>\n",
       "</table>\n",
       "</div>"
      ],
      "text/plain": [
       "        date group  visits\n",
       "0 2019-08-01     A     719\n",
       "1 2019-08-02     A     619"
      ]
     },
     "execution_count": 176,
     "metadata": {},
     "output_type": "execute_result"
    }
   ],
   "source": [
    "visits.head(2)"
   ]
  },
  {
   "cell_type": "code",
   "execution_count": 177,
   "metadata": {},
   "outputs": [
    {
     "data": {
      "text/html": [
       "<div>\n",
       "<style scoped>\n",
       "    .dataframe tbody tr th:only-of-type {\n",
       "        vertical-align: middle;\n",
       "    }\n",
       "\n",
       "    .dataframe tbody tr th {\n",
       "        vertical-align: top;\n",
       "    }\n",
       "\n",
       "    .dataframe thead th {\n",
       "        text-align: right;\n",
       "    }\n",
       "</style>\n",
       "<table border=\"1\" class=\"dataframe\">\n",
       "  <thead>\n",
       "    <tr style=\"text-align: right;\">\n",
       "      <th></th>\n",
       "      <th>date</th>\n",
       "      <th>group</th>\n",
       "      <th>revenue</th>\n",
       "    </tr>\n",
       "  </thead>\n",
       "  <tbody>\n",
       "    <tr>\n",
       "      <th>0</th>\n",
       "      <td>2019-08-01</td>\n",
       "      <td>A</td>\n",
       "      <td>2356.8</td>\n",
       "    </tr>\n",
       "    <tr>\n",
       "      <th>1</th>\n",
       "      <td>2019-08-01</td>\n",
       "      <td>B</td>\n",
       "      <td>1620.0</td>\n",
       "    </tr>\n",
       "    <tr>\n",
       "      <th>2</th>\n",
       "      <td>2019-08-02</td>\n",
       "      <td>A</td>\n",
       "      <td>1503.5</td>\n",
       "    </tr>\n",
       "    <tr>\n",
       "      <th>3</th>\n",
       "      <td>2019-08-02</td>\n",
       "      <td>B</td>\n",
       "      <td>2623.8</td>\n",
       "    </tr>\n",
       "    <tr>\n",
       "      <th>4</th>\n",
       "      <td>2019-08-03</td>\n",
       "      <td>A</td>\n",
       "      <td>1815.2</td>\n",
       "    </tr>\n",
       "    <tr>\n",
       "      <th>...</th>\n",
       "      <td>...</td>\n",
       "      <td>...</td>\n",
       "      <td>...</td>\n",
       "    </tr>\n",
       "    <tr>\n",
       "      <th>57</th>\n",
       "      <td>2019-08-29</td>\n",
       "      <td>B</td>\n",
       "      <td>3623.7</td>\n",
       "    </tr>\n",
       "    <tr>\n",
       "      <th>58</th>\n",
       "      <td>2019-08-30</td>\n",
       "      <td>A</td>\n",
       "      <td>1364.3</td>\n",
       "    </tr>\n",
       "    <tr>\n",
       "      <th>59</th>\n",
       "      <td>2019-08-30</td>\n",
       "      <td>B</td>\n",
       "      <td>3393.3</td>\n",
       "    </tr>\n",
       "    <tr>\n",
       "      <th>60</th>\n",
       "      <td>2019-08-31</td>\n",
       "      <td>A</td>\n",
       "      <td>991.4</td>\n",
       "    </tr>\n",
       "    <tr>\n",
       "      <th>61</th>\n",
       "      <td>2019-08-31</td>\n",
       "      <td>B</td>\n",
       "      <td>2104.3</td>\n",
       "    </tr>\n",
       "  </tbody>\n",
       "</table>\n",
       "<p>62 rows × 3 columns</p>\n",
       "</div>"
      ],
      "text/plain": [
       "         date group  revenue\n",
       "0  2019-08-01     A   2356.8\n",
       "1  2019-08-01     B   1620.0\n",
       "2  2019-08-02     A   1503.5\n",
       "3  2019-08-02     B   2623.8\n",
       "4  2019-08-03     A   1815.2\n",
       "..        ...   ...      ...\n",
       "57 2019-08-29     B   3623.7\n",
       "58 2019-08-30     A   1364.3\n",
       "59 2019-08-30     B   3393.3\n",
       "60 2019-08-31     A    991.4\n",
       "61 2019-08-31     B   2104.3\n",
       "\n",
       "[62 rows x 3 columns]"
      ]
     },
     "execution_count": 177,
     "metadata": {},
     "output_type": "execute_result"
    }
   ],
   "source": [
    "daily_orders = orders.groupby(['date', 'group'])['revenue'].sum().reset_index()\n",
    "daily_orders"
   ]
  },
  {
   "cell_type": "code",
   "execution_count": 178,
   "metadata": {},
   "outputs": [
    {
     "data": {
      "text/html": [
       "<div>\n",
       "<style scoped>\n",
       "    .dataframe tbody tr th:only-of-type {\n",
       "        vertical-align: middle;\n",
       "    }\n",
       "\n",
       "    .dataframe tbody tr th {\n",
       "        vertical-align: top;\n",
       "    }\n",
       "\n",
       "    .dataframe thead th {\n",
       "        text-align: right;\n",
       "    }\n",
       "</style>\n",
       "<table border=\"1\" class=\"dataframe\">\n",
       "  <thead>\n",
       "    <tr style=\"text-align: right;\">\n",
       "      <th></th>\n",
       "      <th>date</th>\n",
       "      <th>group</th>\n",
       "      <th>revenue</th>\n",
       "      <th>cumulative_revenue</th>\n",
       "    </tr>\n",
       "  </thead>\n",
       "  <tbody>\n",
       "    <tr>\n",
       "      <th>0</th>\n",
       "      <td>2019-08-01</td>\n",
       "      <td>A</td>\n",
       "      <td>2356.8</td>\n",
       "      <td>2356.8</td>\n",
       "    </tr>\n",
       "    <tr>\n",
       "      <th>1</th>\n",
       "      <td>2019-08-01</td>\n",
       "      <td>B</td>\n",
       "      <td>1620.0</td>\n",
       "      <td>1620.0</td>\n",
       "    </tr>\n",
       "    <tr>\n",
       "      <th>2</th>\n",
       "      <td>2019-08-02</td>\n",
       "      <td>A</td>\n",
       "      <td>1503.5</td>\n",
       "      <td>3860.3</td>\n",
       "    </tr>\n",
       "    <tr>\n",
       "      <th>3</th>\n",
       "      <td>2019-08-02</td>\n",
       "      <td>B</td>\n",
       "      <td>2623.8</td>\n",
       "      <td>4243.8</td>\n",
       "    </tr>\n",
       "    <tr>\n",
       "      <th>4</th>\n",
       "      <td>2019-08-03</td>\n",
       "      <td>A</td>\n",
       "      <td>1815.2</td>\n",
       "      <td>5675.5</td>\n",
       "    </tr>\n",
       "    <tr>\n",
       "      <th>...</th>\n",
       "      <td>...</td>\n",
       "      <td>...</td>\n",
       "      <td>...</td>\n",
       "      <td>...</td>\n",
       "    </tr>\n",
       "    <tr>\n",
       "      <th>57</th>\n",
       "      <td>2019-08-29</td>\n",
       "      <td>B</td>\n",
       "      <td>3623.7</td>\n",
       "      <td>87343.0</td>\n",
       "    </tr>\n",
       "    <tr>\n",
       "      <th>58</th>\n",
       "      <td>2019-08-30</td>\n",
       "      <td>A</td>\n",
       "      <td>1364.3</td>\n",
       "      <td>63563.5</td>\n",
       "    </tr>\n",
       "    <tr>\n",
       "      <th>59</th>\n",
       "      <td>2019-08-30</td>\n",
       "      <td>B</td>\n",
       "      <td>3393.3</td>\n",
       "      <td>90736.3</td>\n",
       "    </tr>\n",
       "    <tr>\n",
       "      <th>60</th>\n",
       "      <td>2019-08-31</td>\n",
       "      <td>A</td>\n",
       "      <td>991.4</td>\n",
       "      <td>64554.9</td>\n",
       "    </tr>\n",
       "    <tr>\n",
       "      <th>61</th>\n",
       "      <td>2019-08-31</td>\n",
       "      <td>B</td>\n",
       "      <td>2104.3</td>\n",
       "      <td>92840.6</td>\n",
       "    </tr>\n",
       "  </tbody>\n",
       "</table>\n",
       "<p>62 rows × 4 columns</p>\n",
       "</div>"
      ],
      "text/plain": [
       "         date group  revenue  cumulative_revenue\n",
       "0  2019-08-01     A   2356.8              2356.8\n",
       "1  2019-08-01     B   1620.0              1620.0\n",
       "2  2019-08-02     A   1503.5              3860.3\n",
       "3  2019-08-02     B   2623.8              4243.8\n",
       "4  2019-08-03     A   1815.2              5675.5\n",
       "..        ...   ...      ...                 ...\n",
       "57 2019-08-29     B   3623.7             87343.0\n",
       "58 2019-08-30     A   1364.3             63563.5\n",
       "59 2019-08-30     B   3393.3             90736.3\n",
       "60 2019-08-31     A    991.4             64554.9\n",
       "61 2019-08-31     B   2104.3             92840.6\n",
       "\n",
       "[62 rows x 4 columns]"
      ]
     },
     "execution_count": 178,
     "metadata": {},
     "output_type": "execute_result"
    }
   ],
   "source": [
    "daily_orders['cumulative_revenue'] = daily_orders.sort_values(by='date').groupby('group')['revenue'].cumsum()\n",
    "daily_orders"
   ]
  },
  {
   "cell_type": "code",
   "execution_count": 179,
   "metadata": {},
   "outputs": [
    {
     "data": {
      "text/plain": [
       "<Axes: xlabel='date'>"
      ]
     },
     "execution_count": 179,
     "metadata": {},
     "output_type": "execute_result"
    },
    {
     "data": {
      "image/png": "[encoded data removed]",
      "text/plain": [
       "<Figure size 640x480 with 1 Axes>"
      ]
     },
     "metadata": {},
     "output_type": "display_data"
    }
   ],
   "source": [
    "daily_orders.pivot_table(\n",
    "    index='date',\n",
    "    columns='group',\n",
    "    values='cumulative_revenue',\n",
    "    aggfunc='mean'\n",
    ").plot(kind='line')"
   ]
  },
  {
   "cell_type": "markdown",
   "metadata": {},
   "source": [
    "### Conclusiones y Conjeturas sobre el Ingreso Acumulado por Grupo\n",
    "\n",
    "La gráfica del ingreso acumulado revela un crecimiento constante en ambos grupos, A y B, a lo largo del mes de agosto. Sin embargo, a partir del día 14, el grupo B muestra un aumento mucho más pronunciado en comparación con el grupo A.\n",
    "\n",
    "Esto sugiere que una estrategia más efectiva fue implementada para el grupo B, como una promoción o campaña especial, que impulsó sus ingresos significativamente. Mientras tanto, el grupo A mantiene un crecimiento estable, pero no logra igualar el ritmo del grupo B.\n",
    "\n",
    "En conclusión, la diferencia en ingresos acumulados podría estar relacionada con diferencias en las estrategias aplicadas o en la respuesta de los usuarios en cada grupo. Sería interesante analizar más a fondo las acciones implementadas y su impacto."
   ]
  },
  {
   "cell_type": "markdown",
   "metadata": {},
   "source": [
    "## - 2.2 Representa gráficamente el tamaño de pedido promedio acumulado por grupo. Haz conclusiones y conjeturas."
   ]
  },
  {
   "cell_type": "code",
   "execution_count": 180,
   "metadata": {},
   "outputs": [],
   "source": [
    "daily_avgs = (\n",
    "    orders\n",
    "    .groupby(['date', 'group'])\n",
    "    .agg({\n",
    "        'visitorid': 'nunique',  \n",
    "        'transactionid': 'count', \n",
    "        'revenue': 'sum'          \n",
    "    })\n",
    "    .reset_index()\n",
    "    .rename(columns={\n",
    "        'visitorid': 'n_buyers', \n",
    "        'revenue': 'n_revenue'\n",
    "    })\n",
    ")\n",
    "\n",
    "daily_avgs['cumulative_buyers'] = daily_avgs.sort_values(by='date').groupby('group')['n_buyers'].cumsum()\n",
    "daily_avgs['cumulative_revenue'] = daily_avgs.sort_values(by='date').groupby('group')['n_revenue'].cumsum()\n",
    "\n",
    "daily_avgs['avg_revenue'] = daily_avgs['cumulative_revenue'] / daily_avgs['cumulative_buyers']\n",
    "\n",
    "daily_avgs_by_group = (\n",
    "    daily_avgs\n",
    "    .pivot_table(\n",
    "        index='date',\n",
    "        columns='group',\n",
    "        values='avg_revenue',  \n",
    "        aggfunc='mean'       \n",
    "    )\n",
    ")\n"
   ]
  },
  {
   "cell_type": "code",
   "execution_count": 181,
   "metadata": {},
   "outputs": [
    {
     "data": {
      "image/png": "[encoded data removed]",
      "text/plain": [
       "<Figure size 800x600 with 1 Axes>"
      ]
     },
     "metadata": {},
     "output_type": "display_data"
    }
   ],
   "source": [
    "daily_avgs_by_group.plot(kind='line', figsize=(8,6))\n",
    "plt.title('Tamaño promedio acumulado de pedidos por grupo (A vs. B)')\n",
    "plt.xlabel('Fecha')\n",
    "plt.ylabel('Ingreso promedio acumulado')\n",
    "plt.grid(True)\n",
    "plt.show()"
   ]
  },
  {
   "cell_type": "markdown",
   "metadata": {},
   "source": [
    "### Conclusiones y conjeturas sobre tamaño de pedido promedio acumulado por grupo\n",
    "\n",
    "- Grupo A: Muestra un comportamiento estable en el tamaño de pedido promedio acumulado, con ligeras fluctuaciones pero sin cambios drásticos.\n",
    "\n",
    "- Grupo B: Exhibe un fuerte aumento alrededor del día 19, sugiriendo que alguna intervención significativa (como una promoción o cambio en la experiencia) impulsó pedidos más grandes en ese grupo.\n",
    "\n",
    "- Conclusión: El grupo B ha sido más exitoso en aumentar el tamaño promedio de los pedidos tras el día 19, lo que indica que la intervención aplicada fue efectiva."
   ]
  },
  {
   "cell_type": "markdown",
   "metadata": {},
   "source": [
    "## - 2.3 Representa gráficamente la diferencia relativa en el tamaño de pedido promedio acumulado para el grupo B en comparación con el grupo A. Haz conclusiones y conjeturas."
   ]
  },
  {
   "cell_type": "code",
   "execution_count": 182,
   "metadata": {},
   "outputs": [
    {
     "data": {
      "text/html": [
       "<div>\n",
       "<style scoped>\n",
       "    .dataframe tbody tr th:only-of-type {\n",
       "        vertical-align: middle;\n",
       "    }\n",
       "\n",
       "    .dataframe tbody tr th {\n",
       "        vertical-align: top;\n",
       "    }\n",
       "\n",
       "    .dataframe thead th {\n",
       "        text-align: right;\n",
       "    }\n",
       "</style>\n",
       "<table border=\"1\" class=\"dataframe\">\n",
       "  <thead>\n",
       "    <tr style=\"text-align: right;\">\n",
       "      <th>group</th>\n",
       "      <th>A</th>\n",
       "      <th>B</th>\n",
       "      <th>relative_difference</th>\n",
       "    </tr>\n",
       "    <tr>\n",
       "      <th>date</th>\n",
       "      <th></th>\n",
       "      <th></th>\n",
       "      <th></th>\n",
       "    </tr>\n",
       "  </thead>\n",
       "  <tbody>\n",
       "    <tr>\n",
       "      <th>2019-08-01</th>\n",
       "      <td>117.840000</td>\n",
       "      <td>81.000000</td>\n",
       "      <td>-31.262729</td>\n",
       "    </tr>\n",
       "    <tr>\n",
       "      <th>2019-08-02</th>\n",
       "      <td>98.982051</td>\n",
       "      <td>98.693023</td>\n",
       "      <td>-0.292000</td>\n",
       "    </tr>\n",
       "    <tr>\n",
       "      <th>2019-08-03</th>\n",
       "      <td>90.087302</td>\n",
       "      <td>102.552542</td>\n",
       "      <td>13.836846</td>\n",
       "    </tr>\n",
       "    <tr>\n",
       "      <th>2019-08-04</th>\n",
       "      <td>87.462821</td>\n",
       "      <td>103.572000</td>\n",
       "      <td>18.418317</td>\n",
       "    </tr>\n",
       "    <tr>\n",
       "      <th>2019-08-05</th>\n",
       "      <td>85.535922</td>\n",
       "      <td>94.519388</td>\n",
       "      <td>10.502565</td>\n",
       "    </tr>\n",
       "  </tbody>\n",
       "</table>\n",
       "</div>"
      ],
      "text/plain": [
       "group                A           B  relative_difference\n",
       "date                                                   \n",
       "2019-08-01  117.840000   81.000000           -31.262729\n",
       "2019-08-02   98.982051   98.693023            -0.292000\n",
       "2019-08-03   90.087302  102.552542            13.836846\n",
       "2019-08-04   87.462821  103.572000            18.418317\n",
       "2019-08-05   85.535922   94.519388            10.502565"
      ]
     },
     "execution_count": 182,
     "metadata": {},
     "output_type": "execute_result"
    }
   ],
   "source": [
    "\n",
    "daily_avgs_by_group['relative_difference'] = (\n",
    "    (daily_avgs_by_group['B'] - daily_avgs_by_group['A']) / daily_avgs_by_group['A']\n",
    ") * 100\n",
    "\n",
    "daily_avgs_by_group['relative_difference'] = (\n",
    "    (daily_avgs_by_group['B'] - daily_avgs_by_group['A']) / daily_avgs_by_group['A']\n",
    ") * 100\n",
    "\n",
    "daily_avgs_by_group.head()"
   ]
  },
  {
   "cell_type": "code",
   "execution_count": 183,
   "metadata": {},
   "outputs": [
    {
     "data": {
      "image/png": "[encoded data removed]",
      "text/plain": [
       "<Figure size 1000x600 with 1 Axes>"
      ]
     },
     "metadata": {},
     "output_type": "display_data"
    }
   ],
   "source": [
    "\n",
    "# Graficar la diferencia relativa acumulada\n",
    "plt.figure(figsize=(10,6))\n",
    "plt.plot(daily_avgs_by_group.index, daily_avgs_by_group['relative_difference'], label='Diferencia relativa acumulada (%)')\n",
    "plt.axhline(y=0, color='gray', linestyle='--', label='No diferencia')\n",
    "plt.xlabel('Fecha')\n",
    "plt.ylabel('Diferencia relativa (%)')\n",
    "plt.title('Diferencia relativa en el tamaño de pedido promedio (Grupo B vs. Grupo A)')\n",
    "plt.legend()\n",
    "plt.xticks(rotation=45)\n",
    "plt.tight_layout()\n",
    "plt.show()"
   ]
  },
  {
   "cell_type": "markdown",
   "metadata": {},
   "source": [
    "## Conclusiones y conjetuas sobre la diferencia relativa en el tamaño de pedido promedio acumulado para el grupo B en comparación con el grupo \n",
    "\n",
    "### Conclusiones:\n",
    "- Fluctuaciones iniciales: En los primeros días de agosto, la diferencia relativa entre los grupos fluctúa notablemente, comenzando con una diferencia negativa del 30%, lo que sugiere que el grupo B comenzó con un tamaño de pedido promedio significativamente menor que el grupo A.\n",
    "- Crecimiento continuo: A partir del 3 de agosto, la diferencia relativa mejora rápidamente, con un crecimiento sostenido hasta llegar a un pico el 8 de agosto, donde el grupo B supera al grupo A con una diferencia relativa de aproximadamente 30%.\n",
    "- Pico de desempeño: El 16 de agosto, la diferencia alcanza un máximo importante de aproximadamente 40%, indicando que el grupo B tuvo un rendimiento superior en términos de tamaño de pedido promedio durante esta etapa.\n",
    "- Declive y estabilización: Después del 16 de agosto, la diferencia comienza a disminuir progresivamente, llegando a ser negativa para el 22 de agosto, y aunque el grupo B se recupera levemente, la diferencia se mantiene en una tendencia descendente.\n",
    "\n",
    "### Conjeturas:\n",
    "- Promoción temporal: El aumento abrupto que se observa hasta el 16 de agosto podría deberse a alguna promoción o estrategia que benefició considerablemente al grupo B, lo que impulsó un aumento significativo en los tamaños de pedido promedio.\n",
    "- Sostenibilidad limitada: El hecho de que la diferencia comience a caer después del 16 de agosto sugiere que el impacto de la intervención no fue sostenible a largo plazo. Es posible que la promoción o incentivo finalizara, lo que provocó una normalización en el comportamiento de los usuarios.\n",
    "- Fluctuaciones por eventos o condiciones externas: Las variaciones podrían estar influenciadas por factores externos, como días festivos, condiciones del mercado o características de los usuarios que afectaron el comportamiento de compra.\n",
    "- Variabilidad normal: Parte de las fluctuaciones, especialmente las menores, pueden atribuirse a la variabilidad natural en el comportamiento del consumidor, que tiende a ser volátil en periodos cortos.\n"
   ]
  },
  {
   "cell_type": "markdown",
   "metadata": {},
   "source": [
    "## 2.4 Calcula la tasa de conversión de cada grupo como la relación entre los pedidos y el número de visitas de cada día. Representa gráficamente las tasas de conversión diarias de los dos grupos y describe la diferencia. Saca conclusiones y haz conjeturas."
   ]
  },
  {
   "cell_type": "code",
   "execution_count": 184,
   "metadata": {},
   "outputs": [],
   "source": [
    "# Contar el número de pedidos por día y grupo\n",
    "pedidos_por_dia = orders.groupby(['date', 'group']).agg({'transactionid': 'count'}).reset_index()\n",
    "pedidos_por_dia.rename(columns={'transactionid': 'pedidos'}, inplace=True)\n",
    "\n",
    "# Combinar los pedidos con el número de visitas por día y grupo\n",
    "daily_visits = pd.merge(pedidos_por_dia, visits, on=['date', 'group'])\n",
    "\n",
    "# Calcular la tasa de conversión como la relación entre pedidos y visitas\n",
    "daily_visits['tasa_de_conversion'] = (daily_visits['pedidos'] / daily_visits['visits']) * 100"
   ]
  },
  {
   "cell_type": "code",
   "execution_count": 185,
   "metadata": {},
   "outputs": [
    {
     "data": {
      "text/html": [
       "<div>\n",
       "<style scoped>\n",
       "    .dataframe tbody tr th:only-of-type {\n",
       "        vertical-align: middle;\n",
       "    }\n",
       "\n",
       "    .dataframe tbody tr th {\n",
       "        vertical-align: top;\n",
       "    }\n",
       "\n",
       "    .dataframe thead th {\n",
       "        text-align: right;\n",
       "    }\n",
       "</style>\n",
       "<table border=\"1\" class=\"dataframe\">\n",
       "  <thead>\n",
       "    <tr style=\"text-align: right;\">\n",
       "      <th></th>\n",
       "      <th>date</th>\n",
       "      <th>group</th>\n",
       "      <th>conversion_rate</th>\n",
       "    </tr>\n",
       "  </thead>\n",
       "  <tbody>\n",
       "    <tr>\n",
       "      <th>0</th>\n",
       "      <td>2019-08-01</td>\n",
       "      <td>A</td>\n",
       "      <td>0.033380</td>\n",
       "    </tr>\n",
       "    <tr>\n",
       "      <th>1</th>\n",
       "      <td>2019-08-01</td>\n",
       "      <td>B</td>\n",
       "      <td>0.029453</td>\n",
       "    </tr>\n",
       "    <tr>\n",
       "      <th>2</th>\n",
       "      <td>2019-08-02</td>\n",
       "      <td>A</td>\n",
       "      <td>0.032310</td>\n",
       "    </tr>\n",
       "    <tr>\n",
       "      <th>3</th>\n",
       "      <td>2019-08-02</td>\n",
       "      <td>B</td>\n",
       "      <td>0.041308</td>\n",
       "    </tr>\n",
       "    <tr>\n",
       "      <th>4</th>\n",
       "      <td>2019-08-03</td>\n",
       "      <td>A</td>\n",
       "      <td>0.047337</td>\n",
       "    </tr>\n",
       "    <tr>\n",
       "      <th>...</th>\n",
       "      <td>...</td>\n",
       "      <td>...</td>\n",
       "      <td>...</td>\n",
       "    </tr>\n",
       "    <tr>\n",
       "      <th>57</th>\n",
       "      <td>2019-08-29</td>\n",
       "      <td>B</td>\n",
       "      <td>0.037665</td>\n",
       "    </tr>\n",
       "    <tr>\n",
       "      <th>58</th>\n",
       "      <td>2019-08-30</td>\n",
       "      <td>A</td>\n",
       "      <td>0.022449</td>\n",
       "    </tr>\n",
       "    <tr>\n",
       "      <th>59</th>\n",
       "      <td>2019-08-30</td>\n",
       "      <td>B</td>\n",
       "      <td>0.048980</td>\n",
       "    </tr>\n",
       "    <tr>\n",
       "      <th>60</th>\n",
       "      <td>2019-08-31</td>\n",
       "      <td>A</td>\n",
       "      <td>0.017167</td>\n",
       "    </tr>\n",
       "    <tr>\n",
       "      <th>61</th>\n",
       "      <td>2019-08-31</td>\n",
       "      <td>B</td>\n",
       "      <td>0.027855</td>\n",
       "    </tr>\n",
       "  </tbody>\n",
       "</table>\n",
       "<p>62 rows × 3 columns</p>\n",
       "</div>"
      ],
      "text/plain": [
       "         date group  conversion_rate\n",
       "0  2019-08-01     A         0.033380\n",
       "1  2019-08-01     B         0.029453\n",
       "2  2019-08-02     A         0.032310\n",
       "3  2019-08-02     B         0.041308\n",
       "4  2019-08-03     A         0.047337\n",
       "..        ...   ...              ...\n",
       "57 2019-08-29     B         0.037665\n",
       "58 2019-08-30     A         0.022449\n",
       "59 2019-08-30     B         0.048980\n",
       "60 2019-08-31     A         0.017167\n",
       "61 2019-08-31     B         0.027855\n",
       "\n",
       "[62 rows x 3 columns]"
      ]
     },
     "metadata": {},
     "output_type": "display_data"
    }
   ],
   "source": [
    "daily_orders = (\n",
    "    orders.groupby(['date', 'group'])\n",
    "    .agg({'transactionid': 'count'})\n",
    "    .rename(columns={'transactionid': 'n_orders'})\n",
    "    .reset_index()\n",
    ")\n",
    "\n",
    "# Unir los datasets\n",
    "daily_data = pd.merge(daily_orders, daily_visits, on=['date', 'group'])\n",
    "\n",
    "# Calcular la tasa de conversión\n",
    "daily_data['conversion_rate'] = daily_data['n_orders'] / daily_data['visits']\n",
    "\n",
    "# Ver el resultado\n",
    "display(daily_data[['date', 'group', 'conversion_rate']])"
   ]
  },
  {
   "cell_type": "code",
   "execution_count": 186,
   "metadata": {},
   "outputs": [
    {
     "data": {
      "image/png": "[encoded data removed]",
      "text/plain": [
       "<Figure size 1000x600 with 1 Axes>"
      ]
     },
     "metadata": {},
     "output_type": "display_data"
    }
   ],
   "source": [
    "sns.set(style=\"whitegrid\")\n",
    "plt.figure(figsize=(10, 6))\n",
    "sns.lineplot(data=daily_data, x='date', y='conversion_rate', hue='group', marker='o')\n",
    "plt.title('Tasa de Conversión por Grupo (A vs B)', fontsize=16)\n",
    "plt.xlabel('Fecha', fontsize=12)\n",
    "plt.ylabel('Tasa de Conversión', fontsize=12)\n",
    "plt.xticks(rotation=45)\n",
    "plt.legend(title='Grupo')\n",
    "plt.tight_layout()\n",
    "plt.show()"
   ]
  },
  {
   "cell_type": "markdown",
   "metadata": {},
   "source": [
    "## Conclusiones y conjeturas sobre tasa de conversión de cada grupo como la relación entre los pedidos y el número de visitas de cada día\n",
    "### Conclusiones:\n",
    "- Fluctuación constante: Ambas tasas de conversión, A y B, varían bastante a lo largo del tiempo, lo que podría deberse a factores externos.\n",
    "- Picos en el grupo B: El grupo B tiene picos de conversión más altos, mientras que A muestra picos más moderados\n",
    "- Competencia pareja: Ningún grupo tiene un rendimiento consistentemente mejor.\n",
    "- Descenso final: Al final de agosto, las tasas de conversión bajan en ambos grupos.\n",
    "\n",
    "### Conjeturas:\n",
    "- Variabilidad esperada: Las diferencias diarias podrían ser normales, se requiere análisis estadístico para confirmar.\n",
    "- Optimización de B: El grupo B podría estar mejor optimizado en algunos días.\n",
    "- Factores externos: Promociones o cambios en el sitio pueden haber afectado las tasas de conversión."
   ]
  },
  {
   "cell_type": "markdown",
   "metadata": {},
   "source": [
    "## 2.5 Traza un gráfico de dispersión del número de pedidos por usuario. Haz conclusiones y conjeturas.\n"
   ]
  },
  {
   "cell_type": "code",
   "execution_count": 187,
   "metadata": {},
   "outputs": [
    {
     "data": {
      "image/png": "[encoded data removed]",
      "text/plain": [
       "<Figure size 800x600 with 1 Axes>"
      ]
     },
     "metadata": {},
     "output_type": "display_data"
    }
   ],
   "source": [
    "# Codigo del asesor\n",
    "daily_orders.pivot_table(\n",
    "    index='date',\n",
    "    columns='group',\n",
    "    values='n_orders'\n",
    ").plot(kind='scatter', x='A', y='B', figsize=(8,6))\n",
    "\n",
    "x = np.linspace(*plt.gca().get_xlim())\n",
    "plt.title('Número de pedidos por usuario')\n",
    "plt.xlabel('Grupo de Usuario')\n",
    "plt.ylabel('Número de Pedidos')\n",
    "plt.gca().plot(x,x)\n",
    "plt.ylim(0,40)\n",
    "plt.xlim(0,40)\n",
    "\n",
    "plt.show()"
   ]
  },
  {
   "cell_type": "markdown",
   "metadata": {},
   "source": [
    "En esta sección, he tenido algunas dudas sobre la orientación proporcionada por nuestro asesor en la grabación. Según lo que entiendo, el objetivo es generar un gráfico de dispersión que muestre el número de pedidos por usuario.\n",
    "\n",
    "Sin embargo, el primer código que utilicé parece estar mostrando la comparación diaria de los pedidos entre los grupos A y B, evaluando si existe una correlación o tendencia entre ambos grupos. Este enfoque se centra en analizar las diferencias o similitudes en el comportamiento de compra diario de cada grupo durante el periodo de prueba.\n",
    "\n",
    "Por otro lado, el código correcto debería graficar la dispersión del número total de pedidos realizados por cada usuario. Es decir, en lugar de comparar los pedidos entre grupos por día, debería enfocarse en visualizar cómo se distribuyen los pedidos entre los usuarios, independientemente del grupo o de la fecha, para identificar patrones de comportamiento individual. \n",
    "\n",
    "### Lo dejo a revisión para que usted, evaluador, me corrija cuál es el objetivo principal de este punto del análisis. Le voy a dejar las dos opciones: el código que está arriba de este comentario es el código de mi profesor, y el código que está abajo es el que yo hice."
   ]
  },
  {
   "cell_type": "code",
   "execution_count": 188,
   "metadata": {},
   "outputs": [
    {
     "data": {
      "text/plain": [
       "([], [])"
      ]
     },
     "execution_count": 188,
     "metadata": {},
     "output_type": "execute_result"
    },
    {
     "data": {
      "image/png": "[encoded data removed]",
      "text/plain": [
       "<Figure size 1000x600 with 1 Axes>"
      ]
     },
     "metadata": {},
     "output_type": "display_data"
    }
   ],
   "source": [
    "#Codigo del alumno\n",
    "# Agrupar los pedidos por usuario y contar cuántos pedidos hizo cada uno\n",
    "orders_per_user = orders.groupby('visitorid')['transactionid'].count().reset_index()\n",
    "orders_per_user.columns = ['visitorid', 'n_orders']\n",
    "\n",
    "# Graficar la dispersión del número de pedidos por usuario\n",
    "plt.figure(figsize=(10, 6))\n",
    "sns.scatterplot(data=orders_per_user, x='visitorid', y='n_orders')\n",
    "\n",
    "plt.title('Dispersión del Número de Pedidos por Usuario')\n",
    "plt.xlabel('ID de Usuario')\n",
    "plt.ylabel('Número de Pedidos')\n",
    "\n",
    "plt.xticks([], [])  "
   ]
  },
  {
   "cell_type": "markdown",
   "metadata": {},
   "source": [
    "## Conclusiones y conjeturas sobre la dispersión del número de pedidos por usuario\n",
    "### Conclusiones:\n",
    "- La mayoría de los usuarios realizó 1 o 2 pedidos, lo que refleja un comportamiento de compra de baja recurrencia.\n",
    "- Un pequeño grupo de usuarios realizó hasta 10 pedidos, lo que los convierte en outliers. Estos usuarios presentan un comportamiento de compra atípico o más frecuente en comparación con el resto.\n",
    "- La concentración de puntos alrededor de 1 y 2 pedidos sugiere que la mayoría de los usuarios no tiende a realizar muchas compras repetidas.\n",
    "- La distribución muestra una clara diferencia entre la mayoría de los usuarios que realiza pocas compras y un pequeño grupo que realiza muchas, reflejando una distribución sesgada hacia compras de baja frecuencia.\n",
    "### Conjeturas:\n",
    "- Los usuarios que hicieron más de 5 pedidos pueden ser clave para entender el comportamiento de los compradores frecuentes y cómo aumentar la recurrencia en otros usuarios.\n",
    "- El comportamiento de los usuarios con pocos pedidos indica que podrían beneficiarse de estrategias de retención que los incentiven a realizar más compras.\n",
    "- Los usuarios que realizaron múltiples compras podrían ser el objetivo ideal para estrategias de fidelización, ya que han demostrado un mayor compromiso con el producto o servicio.\n",
    "- La baja frecuencia de compras en la mayoría de los usuarios podría ser indicativa de un producto o servicio que no requiere compras recurrentes o de un posible área de mejora en la oferta para incentivar más transacciones."
   ]
  },
  {
   "cell_type": "markdown",
   "metadata": {},
   "source": [
    "## 2.6 Calcula los percentiles 95 y 99 para el número de pedidos por usuario. Define el punto en el cual un punto de datos se convierte en una anomalía."
   ]
  },
  {
   "cell_type": "code",
   "execution_count": 189,
   "metadata": {},
   "outputs": [
    {
     "data": {
      "text/plain": [
       "visitorid      30\n",
       "order_count    30\n",
       "dtype: int64"
      ]
     },
     "execution_count": 189,
     "metadata": {},
     "output_type": "execute_result"
    }
   ],
   "source": [
    "orders_by_user = orders.groupby('visitorid').agg({'transactionid': 'count'}).reset_index()\n",
    "orders_by_user.columns = ['visitorid', 'order_count']\n",
    "\n",
    "percentile_95 = orders_by_user['order_count'].quantile(0.95)\n",
    "\n",
    "users_above_95 = orders_by_user[orders_by_user['order_count'] > percentile_95]\n",
    "users_above_95.count()\n"
   ]
  },
  {
   "cell_type": "code",
   "execution_count": 190,
   "metadata": {},
   "outputs": [
    {
     "data": {
      "text/plain": [
       "visitorid      10\n",
       "order_count    10\n",
       "dtype: int64"
      ]
     },
     "execution_count": 190,
     "metadata": {},
     "output_type": "execute_result"
    }
   ],
   "source": [
    "percentile_99 = orders_by_user['order_count'].quantile(0.99)\n",
    "\n",
    "users_above_99 = orders_by_user[orders_by_user['order_count'] > percentile_99]\n",
    "users_above_99.count()"
   ]
  },
  {
   "cell_type": "markdown",
   "metadata": {},
   "source": [
    "## Conclusiones sobre los percentiles 95 y 99 para el número de pedidos por usuario\n",
    "\n",
    "### Percentil 95:\n",
    "- Tenemos 30 usuarios cuyo número de pedidos es superior al percentil 95.\n",
    "- Esto significa que el 5% de los usuarios que más pedidos realizaron (30 usuarios) están en el grupo de comportamiento atípico, haciendo más pedidos que el 95% restante.\n",
    "\n",
    "### Percentil 99:\n",
    "- Solo 10 usuarios tienen un número de pedidos mayor al percentil 99.\n",
    "- Estos 10 usuarios están en el 1% superior, lo que los hace aún más inusuales en términos de comportamiento de pedidos."
   ]
  },
  {
   "cell_type": "markdown",
   "metadata": {},
   "source": [
    "## 2.7 Traza un gráfico de dispersión de los precios de los pedidos. Haz conclusiones y conjeturas."
   ]
  },
  {
   "cell_type": "code",
   "execution_count": 191,
   "metadata": {},
   "outputs": [],
   "source": [
    "# Agrupar el total de ingresos (revenue) por día y grupo\n",
    "daily_revenue = orders.groupby(['date', 'group']).agg({'revenue': 'sum'}).reset_index()\n",
    "\n",
    "# Unir los datos de ingresos con daily_data\n",
    "daily_data = pd.merge(daily_orders, daily_revenue, on=['date', 'group'])"
   ]
  },
  {
   "cell_type": "code",
   "execution_count": 192,
   "metadata": {},
   "outputs": [
    {
     "data": {
      "text/html": [
       "<div>\n",
       "<style scoped>\n",
       "    .dataframe tbody tr th:only-of-type {\n",
       "        vertical-align: middle;\n",
       "    }\n",
       "\n",
       "    .dataframe tbody tr th {\n",
       "        vertical-align: top;\n",
       "    }\n",
       "\n",
       "    .dataframe thead th {\n",
       "        text-align: right;\n",
       "    }\n",
       "</style>\n",
       "<table border=\"1\" class=\"dataframe\">\n",
       "  <thead>\n",
       "    <tr style=\"text-align: right;\">\n",
       "      <th></th>\n",
       "      <th>date</th>\n",
       "      <th>group</th>\n",
       "      <th>n_orders</th>\n",
       "      <th>revenue</th>\n",
       "      <th>avg_order_price</th>\n",
       "    </tr>\n",
       "  </thead>\n",
       "  <tbody>\n",
       "    <tr>\n",
       "      <th>18</th>\n",
       "      <td>2019-08-10</td>\n",
       "      <td>A</td>\n",
       "      <td>16</td>\n",
       "      <td>3288.2</td>\n",
       "      <td>205.512500</td>\n",
       "    </tr>\n",
       "    <tr>\n",
       "      <th>24</th>\n",
       "      <td>2019-08-13</td>\n",
       "      <td>A</td>\n",
       "      <td>14</td>\n",
       "      <td>4096.9</td>\n",
       "      <td>292.635714</td>\n",
       "    </tr>\n",
       "    <tr>\n",
       "      <th>37</th>\n",
       "      <td>2019-08-19</td>\n",
       "      <td>B</td>\n",
       "      <td>21</td>\n",
       "      <td>22064.9</td>\n",
       "      <td>1050.709524</td>\n",
       "    </tr>\n",
       "    <tr>\n",
       "      <th>56</th>\n",
       "      <td>2019-08-29</td>\n",
       "      <td>A</td>\n",
       "      <td>22</td>\n",
       "      <td>4995.5</td>\n",
       "      <td>227.068182</td>\n",
       "    </tr>\n",
       "  </tbody>\n",
       "</table>\n",
       "</div>"
      ],
      "text/plain": [
       "         date group  n_orders  revenue  avg_order_price\n",
       "18 2019-08-10     A        16   3288.2       205.512500\n",
       "24 2019-08-13     A        14   4096.9       292.635714\n",
       "37 2019-08-19     B        21  22064.9      1050.709524\n",
       "56 2019-08-29     A        22   4995.5       227.068182"
      ]
     },
     "execution_count": 192,
     "metadata": {},
     "output_type": "execute_result"
    }
   ],
   "source": [
    "orders_above_95"
   ]
  },
  {
   "cell_type": "code",
   "execution_count": 193,
   "metadata": {},
   "outputs": [
    {
     "data": {
      "image/png": "[encoded data removed]",
      "text/plain": [
       "<Figure size 800x600 with 1 Axes>"
      ]
     },
     "metadata": {},
     "output_type": "display_data"
    }
   ],
   "source": [
    "# Calcular el precio promedio por pedido\n",
    "daily_data['avg_order_price'] = daily_data['revenue'] / daily_data['n_orders']\n",
    "\n",
    "daily_data.plot(kind='scatter', x='n_orders', y='avg_order_price', figsize=(8,6), color='green')\n",
    "\n",
    "plt.title('Gráfico de Dispersión del Precio Promedio de los Pedidos')\n",
    "plt.xlabel('Número de Pedidos')\n",
    "plt.ylabel('Precio Promedio del Pedido')\n",
    "plt.grid(True)\n",
    "plt.gca().plot(x,x)\n",
    "\n",
    "\n",
    "plt.show()"
   ]
  },
  {
   "cell_type": "markdown",
   "metadata": {},
   "source": [
    "## Conclusiones y conjeturas sobre la dispersión de los precios de los pedidos:\n",
    "\n",
    "- Amplia dispersión de precios: Hay varios puntos que se encuentran lejos de la mayoría de los otros datos, lo que indica la existencia de valores atípicos. Hay algunos pedidos cuyo precio promedio está por encima de los 200 e incluso uno supera los 1000. Estos puntos fuera de lo común están creando una dispersión significativa en el gráfico.\n",
    "\n",
    "- Concentración de la mayoría de los precios: La mayoría de los puntos se agrupan cerca de la parte inferior del gráfico, con precios que oscilan entre 0 y 200. Este grupo parece más representativo del comportamiento típico de los precios promedio de los pedidos.\n",
    "\n",
    "- Posible presencia de valores atípicos: Dado que algunos puntos tienen precios tan altos, podría ser útil investigar estos valores más a fondo para entender si se trata de un comportamiento natural del negocio o si son pedidos anómalos que distorsionan los datos. Esto es importante porque los precios que están muy por encima del percentil 95 o 99 podrían ser excepciones, y al eliminarlos podrías obtener una visualización más clara de los datos restantes.\n",
    "\n",
    "- Tendencia plana: A pesar de la dispersión, la línea azul que representa una relación lineal entre el número de pedidos y el precio promedio es prácticamente horizontal. Esto sugiere que no parece haber una relación directa significativa entre el número de pedidos y el precio promedio del pedido. En otras palabras, los precios promedio no aumentan ni disminuyen claramente a medida que crece el número de pedidos.\n",
    "\n",
    "### Conclusión:\n",
    "El gráfico sugiere que hay algunos pedidos con precios promedio excepcionalmente altos que podrían ser considerados valores atípicos. La mayoría de los pedidos tienen un precio promedio mucho más bajo y se agrupan en la parte inferior del gráfico. Podría ser útil realizar un análisis más detallado para decidir si estos valores atípicos deben excluirse para mejorar la comprensión del comportamiento central de los datos. Excluir los percentiles superiores, como el 95 o 99, podría ayudar a reducir la dispersión y obtener una imagen más clara de las tendencias generales."
   ]
  },
  {
   "cell_type": "markdown",
   "metadata": {},
   "source": [
    "## 2.8 Calcula los percentiles 95 y 99 de los precios de los pedidos. Define el punto en el cual un punto de datos se convierte en una anomalía."
   ]
  },
  {
   "cell_type": "code",
   "execution_count": 194,
   "metadata": {},
   "outputs": [
    {
     "data": {
      "text/plain": [
       "date               4\n",
       "group              4\n",
       "n_orders           4\n",
       "revenue            4\n",
       "avg_order_price    4\n",
       "dtype: int64"
      ]
     },
     "execution_count": 194,
     "metadata": {},
     "output_type": "execute_result"
    }
   ],
   "source": [
    "percentile_95_price = daily_data['avg_order_price'].quantile(0.95)\n",
    "\n",
    "\n",
    "orders_above_95 = daily_data[daily_data['avg_order_price'] > percentile_95_price]\n",
    "orders_above_95.count()\n"
   ]
  },
  {
   "cell_type": "code",
   "execution_count": 195,
   "metadata": {},
   "outputs": [
    {
     "data": {
      "text/html": [
       "<div>\n",
       "<style scoped>\n",
       "    .dataframe tbody tr th:only-of-type {\n",
       "        vertical-align: middle;\n",
       "    }\n",
       "\n",
       "    .dataframe tbody tr th {\n",
       "        vertical-align: top;\n",
       "    }\n",
       "\n",
       "    .dataframe thead th {\n",
       "        text-align: right;\n",
       "    }\n",
       "</style>\n",
       "<table border=\"1\" class=\"dataframe\">\n",
       "  <thead>\n",
       "    <tr style=\"text-align: right;\">\n",
       "      <th></th>\n",
       "      <th>date</th>\n",
       "      <th>group</th>\n",
       "      <th>n_orders</th>\n",
       "      <th>revenue</th>\n",
       "      <th>avg_order_price</th>\n",
       "    </tr>\n",
       "  </thead>\n",
       "  <tbody>\n",
       "    <tr>\n",
       "      <th>18</th>\n",
       "      <td>2019-08-10</td>\n",
       "      <td>A</td>\n",
       "      <td>16</td>\n",
       "      <td>3288.2</td>\n",
       "      <td>205.512500</td>\n",
       "    </tr>\n",
       "    <tr>\n",
       "      <th>24</th>\n",
       "      <td>2019-08-13</td>\n",
       "      <td>A</td>\n",
       "      <td>14</td>\n",
       "      <td>4096.9</td>\n",
       "      <td>292.635714</td>\n",
       "    </tr>\n",
       "    <tr>\n",
       "      <th>37</th>\n",
       "      <td>2019-08-19</td>\n",
       "      <td>B</td>\n",
       "      <td>21</td>\n",
       "      <td>22064.9</td>\n",
       "      <td>1050.709524</td>\n",
       "    </tr>\n",
       "    <tr>\n",
       "      <th>56</th>\n",
       "      <td>2019-08-29</td>\n",
       "      <td>A</td>\n",
       "      <td>22</td>\n",
       "      <td>4995.5</td>\n",
       "      <td>227.068182</td>\n",
       "    </tr>\n",
       "  </tbody>\n",
       "</table>\n",
       "</div>"
      ],
      "text/plain": [
       "         date group  n_orders  revenue  avg_order_price\n",
       "18 2019-08-10     A        16   3288.2       205.512500\n",
       "24 2019-08-13     A        14   4096.9       292.635714\n",
       "37 2019-08-19     B        21  22064.9      1050.709524\n",
       "56 2019-08-29     A        22   4995.5       227.068182"
      ]
     },
     "execution_count": 195,
     "metadata": {},
     "output_type": "execute_result"
    }
   ],
   "source": [
    "orders_above_95"
   ]
  },
  {
   "cell_type": "code",
   "execution_count": 196,
   "metadata": {},
   "outputs": [
    {
     "data": {
      "text/plain": [
       "date               1\n",
       "group              1\n",
       "n_orders           1\n",
       "revenue            1\n",
       "avg_order_price    1\n",
       "dtype: int64"
      ]
     },
     "execution_count": 196,
     "metadata": {},
     "output_type": "execute_result"
    }
   ],
   "source": [
    "\n",
    "percentile_99_price = daily_data['avg_order_price'].quantile(0.99)\n",
    "\n",
    "\n",
    "orders_above_99 = daily_data[daily_data['avg_order_price'] > percentile_99_price]\n",
    "orders_above_99.count()"
   ]
  },
  {
   "cell_type": "code",
   "execution_count": 197,
   "metadata": {},
   "outputs": [
    {
     "data": {
      "text/html": [
       "<div>\n",
       "<style scoped>\n",
       "    .dataframe tbody tr th:only-of-type {\n",
       "        vertical-align: middle;\n",
       "    }\n",
       "\n",
       "    .dataframe tbody tr th {\n",
       "        vertical-align: top;\n",
       "    }\n",
       "\n",
       "    .dataframe thead th {\n",
       "        text-align: right;\n",
       "    }\n",
       "</style>\n",
       "<table border=\"1\" class=\"dataframe\">\n",
       "  <thead>\n",
       "    <tr style=\"text-align: right;\">\n",
       "      <th></th>\n",
       "      <th>date</th>\n",
       "      <th>group</th>\n",
       "      <th>n_orders</th>\n",
       "      <th>revenue</th>\n",
       "      <th>avg_order_price</th>\n",
       "    </tr>\n",
       "  </thead>\n",
       "  <tbody>\n",
       "    <tr>\n",
       "      <th>37</th>\n",
       "      <td>2019-08-19</td>\n",
       "      <td>B</td>\n",
       "      <td>21</td>\n",
       "      <td>22064.9</td>\n",
       "      <td>1050.709524</td>\n",
       "    </tr>\n",
       "  </tbody>\n",
       "</table>\n",
       "</div>"
      ],
      "text/plain": [
       "         date group  n_orders  revenue  avg_order_price\n",
       "37 2019-08-19     B        21  22064.9      1050.709524"
      ]
     },
     "execution_count": 197,
     "metadata": {},
     "output_type": "execute_result"
    }
   ],
   "source": [
    "orders_above_99"
   ]
  },
  {
   "cell_type": "markdown",
   "metadata": {},
   "source": [
    "### Identificación de Anomalías en los Precios de los Pedidos\n",
    "\n",
    "Para identificar posibles anomalías en los precios de los pedidos, se utilizó un gráfico de dispersión que muestra la relación entre el número de pedidos y el precio promedio por pedido. La dispersión observada sugiere que algunos puntos se desvían significativamente del resto de los datos, lo que puede indicar comportamientos inusuales.\n",
    "\n",
    "Para definir estos puntos como anomalías, calculamos los percentiles 95 y 99 del número de pedidos por usuario. Al considerar el percentil 95, identificamos 4 usuarios con un número de pedidos considerablemente mayor que el promedio general. Dado que el percentil 99 solo arrojó un único usuario, consideramos que el percentil 95 es más adecuado para marcar estos datos como anomalías, capturando las desviaciones relevantes sin ser excesivamente restrictivos."
   ]
  },
  {
   "cell_type": "markdown",
   "metadata": {},
   "source": [
    "## 2.9 Encuentra la significancia estadística de la diferencia en la conversión entre los grupos utilizando los datos en bruto. Haz conclusiones y conjeturas."
   ]
  },
  {
   "cell_type": "code",
   "execution_count": 198,
   "metadata": {},
   "outputs": [
    {
     "data": {
      "text/html": [
       "<div>\n",
       "<style scoped>\n",
       "    .dataframe tbody tr th:only-of-type {\n",
       "        vertical-align: middle;\n",
       "    }\n",
       "\n",
       "    .dataframe tbody tr th {\n",
       "        vertical-align: top;\n",
       "    }\n",
       "\n",
       "    .dataframe thead th {\n",
       "        text-align: right;\n",
       "    }\n",
       "</style>\n",
       "<table border=\"1\" class=\"dataframe\">\n",
       "  <thead>\n",
       "    <tr style=\"text-align: right;\">\n",
       "      <th></th>\n",
       "      <th>date</th>\n",
       "      <th>group</th>\n",
       "      <th>n_buyers</th>\n",
       "    </tr>\n",
       "  </thead>\n",
       "  <tbody>\n",
       "    <tr>\n",
       "      <th>0</th>\n",
       "      <td>2019-08-01</td>\n",
       "      <td>A</td>\n",
       "      <td>24</td>\n",
       "    </tr>\n",
       "    <tr>\n",
       "      <th>1</th>\n",
       "      <td>2019-08-01</td>\n",
       "      <td>B</td>\n",
       "      <td>21</td>\n",
       "    </tr>\n",
       "    <tr>\n",
       "      <th>2</th>\n",
       "      <td>2019-08-02</td>\n",
       "      <td>A</td>\n",
       "      <td>20</td>\n",
       "    </tr>\n",
       "    <tr>\n",
       "      <th>3</th>\n",
       "      <td>2019-08-02</td>\n",
       "      <td>B</td>\n",
       "      <td>24</td>\n",
       "    </tr>\n",
       "    <tr>\n",
       "      <th>4</th>\n",
       "      <td>2019-08-03</td>\n",
       "      <td>A</td>\n",
       "      <td>24</td>\n",
       "    </tr>\n",
       "    <tr>\n",
       "      <th>...</th>\n",
       "      <td>...</td>\n",
       "      <td>...</td>\n",
       "      <td>...</td>\n",
       "    </tr>\n",
       "    <tr>\n",
       "      <th>57</th>\n",
       "      <td>2019-08-29</td>\n",
       "      <td>B</td>\n",
       "      <td>20</td>\n",
       "    </tr>\n",
       "    <tr>\n",
       "      <th>58</th>\n",
       "      <td>2019-08-30</td>\n",
       "      <td>A</td>\n",
       "      <td>11</td>\n",
       "    </tr>\n",
       "    <tr>\n",
       "      <th>59</th>\n",
       "      <td>2019-08-30</td>\n",
       "      <td>B</td>\n",
       "      <td>24</td>\n",
       "    </tr>\n",
       "    <tr>\n",
       "      <th>60</th>\n",
       "      <td>2019-08-31</td>\n",
       "      <td>A</td>\n",
       "      <td>12</td>\n",
       "    </tr>\n",
       "    <tr>\n",
       "      <th>61</th>\n",
       "      <td>2019-08-31</td>\n",
       "      <td>B</td>\n",
       "      <td>20</td>\n",
       "    </tr>\n",
       "  </tbody>\n",
       "</table>\n",
       "<p>62 rows × 3 columns</p>\n",
       "</div>"
      ],
      "text/plain": [
       "         date group  n_buyers\n",
       "0  2019-08-01     A        24\n",
       "1  2019-08-01     B        21\n",
       "2  2019-08-02     A        20\n",
       "3  2019-08-02     B        24\n",
       "4  2019-08-03     A        24\n",
       "..        ...   ...       ...\n",
       "57 2019-08-29     B        20\n",
       "58 2019-08-30     A        11\n",
       "59 2019-08-30     B        24\n",
       "60 2019-08-31     A        12\n",
       "61 2019-08-31     B        20\n",
       "\n",
       "[62 rows x 3 columns]"
      ]
     },
     "execution_count": 198,
     "metadata": {},
     "output_type": "execute_result"
    }
   ],
   "source": [
    "daily_buyers = (\n",
    "    orders\n",
    "    .groupby(['date', 'group'])\n",
    "    .size()\n",
    "    .reset_index()\n",
    "    .rename(columns={0: 'n_buyers'})\n",
    ")\n",
    "daily_buyers"
   ]
  },
  {
   "cell_type": "code",
   "execution_count": 199,
   "metadata": {},
   "outputs": [
    {
     "data": {
      "text/html": [
       "<div>\n",
       "<style scoped>\n",
       "    .dataframe tbody tr th:only-of-type {\n",
       "        vertical-align: middle;\n",
       "    }\n",
       "\n",
       "    .dataframe tbody tr th {\n",
       "        vertical-align: top;\n",
       "    }\n",
       "\n",
       "    .dataframe thead th {\n",
       "        text-align: right;\n",
       "    }\n",
       "</style>\n",
       "<table border=\"1\" class=\"dataframe\">\n",
       "  <thead>\n",
       "    <tr style=\"text-align: right;\">\n",
       "      <th></th>\n",
       "      <th>date</th>\n",
       "      <th>group</th>\n",
       "      <th>visits</th>\n",
       "      <th>n_buyers</th>\n",
       "      <th>conversions</th>\n",
       "    </tr>\n",
       "  </thead>\n",
       "  <tbody>\n",
       "    <tr>\n",
       "      <th>0</th>\n",
       "      <td>2019-08-01</td>\n",
       "      <td>A</td>\n",
       "      <td>719</td>\n",
       "      <td>24</td>\n",
       "      <td>0.033380</td>\n",
       "    </tr>\n",
       "    <tr>\n",
       "      <th>1</th>\n",
       "      <td>2019-08-02</td>\n",
       "      <td>A</td>\n",
       "      <td>619</td>\n",
       "      <td>20</td>\n",
       "      <td>0.032310</td>\n",
       "    </tr>\n",
       "    <tr>\n",
       "      <th>2</th>\n",
       "      <td>2019-08-03</td>\n",
       "      <td>A</td>\n",
       "      <td>507</td>\n",
       "      <td>24</td>\n",
       "      <td>0.047337</td>\n",
       "    </tr>\n",
       "    <tr>\n",
       "      <th>3</th>\n",
       "      <td>2019-08-04</td>\n",
       "      <td>A</td>\n",
       "      <td>717</td>\n",
       "      <td>16</td>\n",
       "      <td>0.022315</td>\n",
       "    </tr>\n",
       "    <tr>\n",
       "      <th>4</th>\n",
       "      <td>2019-08-05</td>\n",
       "      <td>A</td>\n",
       "      <td>756</td>\n",
       "      <td>25</td>\n",
       "      <td>0.033069</td>\n",
       "    </tr>\n",
       "  </tbody>\n",
       "</table>\n",
       "</div>"
      ],
      "text/plain": [
       "        date group  visits  n_buyers  conversions\n",
       "0 2019-08-01     A     719        24     0.033380\n",
       "1 2019-08-02     A     619        20     0.032310\n",
       "2 2019-08-03     A     507        24     0.047337\n",
       "3 2019-08-04     A     717        16     0.022315\n",
       "4 2019-08-05     A     756        25     0.033069"
      ]
     },
     "execution_count": 199,
     "metadata": {},
     "output_type": "execute_result"
    }
   ],
   "source": [
    "conversions = visits.merge(daily_buyers, on=['date', 'group'], how= 'left')\n",
    "\n",
    "conversions['conversions'] = conversions['n_buyers'] / conversions['visits']\n",
    "\n",
    "conversions.head()"
   ]
  },
  {
   "cell_type": "code",
   "execution_count": 200,
   "metadata": {},
   "outputs": [
    {
     "name": "stdout",
     "output_type": "stream",
     "text": [
      "Estadístico t: -1.710743059515579\n",
      "P-Value: 0.0922947738393625\n",
      "No se encontró una diferencia estadísticamente significativa entre las tasas de conversión de los grupos A y B.\n"
     ]
    }
   ],
   "source": [
    "import scipy.stats as stats\n",
    "\n",
    "# Filtrar las conversiones por grupo\n",
    "conversiones_grupo_A = conversions.query('group == \"A\"')['conversions']\n",
    "conversiones_grupo_B = conversions.query('group == \"B\"')['conversions']\n",
    "\n",
    "# Verificar si las varianzas son iguales (opcional)\n",
    "_, p_value_levene = stats.levene(conversiones_grupo_A, conversiones_grupo_B)\n",
    "\n",
    "# Ejecutar la prueba t de dos muestras independientes\n",
    "t_stat, p_value = stats.ttest_ind(\n",
    "    conversiones_grupo_A,\n",
    "    conversiones_grupo_B,\n",
    "    equal_var=p_value_levene > 0.05  # Si p_value_levene > 0.05, las varianzas son iguales\n",
    ")\n",
    "\n",
    "# Resultados\n",
    "print(f'Estadístico t: {t_stat}')\n",
    "print(f'P-Value: {p_value}')\n",
    "\n",
    "# Conclusión basada en el p-value\n",
    "if p_value < 0.05:\n",
    "    print(\"Hay una diferencia estadísticamente significativa entre las tasas de conversión de los grupos A y B.\")\n",
    "else:\n",
    "    print(\"No se encontró una diferencia estadísticamente significativa entre las tasas de conversión de los grupos A y B.\")\n"
   ]
  },
  {
   "cell_type": "markdown",
   "metadata": {},
   "source": [
    "## Análisis de Significancia Estadística de la Diferencia en Conversión\n",
    "\n",
    "En este análisis, hemos utilizado los datos en bruto para calcular la significancia estadística de la diferencia en las tasas de conversión entre los grupos A y B. A continuación, se presentan los resultados y las conclusiones derivadas del análisis:\n",
    "\n",
    "### 1. Estadístico t (T-Test):\n",
    "- Estadístico t: -1.7107\n",
    "- El valor del estadístico t de -1.7107 indica que la diferencia observada entre los grupos A y B no es suficientemente fuerte como para ser considerada significativa, al menos en un nivel de confianza estándar del 95%. El valor negativo refleja que, numéricamente, el grupo B pudo haber tenido un mejor rendimiento que el grupo A, pero no lo suficiente para ser concluyente.\n",
    "\n",
    "### 2. P-Value:\n",
    "- P-Value: 0.0923\n",
    "\n",
    "- El P-Value de 0.0923 indica que existe una probabilidad del 9.23% de que la diferencia observada entre los grupos sea producto del azar. Dado que este valor es mayor que el umbral común de 0.05 (5%), no podemos rechazar la hipótesis nula. Esto significa que no se ha encontrado suficiente evidencia para afirmar que existe una diferencia significativa entre los grupos A y B.\n",
    "\n",
    "### 3. Conclusiones:\n",
    "- No se encontró una diferencia estadísticamente significativa entre los grupos A y B. Aunque el grupo B podría haber presentado un mejor rendimiento, esta diferencia no es lo suficientemente fuerte para considerarse significativa desde un punto de vista estadístico.\n",
    "\n",
    "- Los resultados sugieren que los cambios implementados en el grupo B (como variaciones de diseño, promociones o estrategias) no tuvieron un impacto claro y concluyente en comparación con el grupo A.\n",
    "A nivel estadístico, el P-Value mayor a 0.05 y el valor del estadístico t dentro del rango crítico nos indican que cualquier variación entre los grupos es probable que se deba al azar, más que a las modificaciones realizadas.\n",
    "### 4. Conjeturas:\n",
    "Es probable que los cambios en el grupo B no hayan sido lo suficientemente impactantes o que factores externos hayan diluido el efecto de estos cambios.\n"
   ]
  },
  {
   "cell_type": "markdown",
   "metadata": {},
   "source": [
    "## 2.10 Encuentra la significancia estadística de la diferencia en el tamaño promedio de pedido entre los grupos utilizando los datos en bruto. Haz conclusiones y conjeturas."
   ]
  },
  {
   "cell_type": "code",
   "execution_count": 201,
   "metadata": {},
   "outputs": [],
   "source": [
    "mean_order_value_a = orders[orders['group'] == 'A']['revenue'].mean()\n",
    "mean_order_value_b = orders[orders['group'] == 'B']['revenue'].mean()\n",
    "\n",
    "\n",
    "n_orders_a = orders[orders['group'] == 'A']['transactionid'].count()\n",
    "n_orders_b = orders[orders['group'] == 'B']['transactionid'].count()"
   ]
  },
  {
   "cell_type": "code",
   "execution_count": 202,
   "metadata": {},
   "outputs": [
    {
     "name": "stdout",
     "output_type": "stream",
     "text": [
      "Tamaño promedio de pedido A: 115.90\n",
      "Tamaño promedio de pedido B: 145.06\n",
      "Estadístico t: -0.8886\n",
      "P-Value: 0.3746\n",
      "No hay una diferencia significativa en el tamaño promedio de los pedidos entre los grupos A y B.\n"
     ]
    }
   ],
   "source": [
    "std_dev_a = orders[orders['group'] == 'A']['revenue'].std()\n",
    "std_dev_b = orders[orders['group'] == 'B']['revenue'].std()\n",
    "\n",
    "\n",
    "t_statistic = (mean_order_value_a - mean_order_value_b) / np.sqrt((std_dev_a**2 / n_orders_a) + (std_dev_b**2 / n_orders_b))\n",
    "\n",
    "\n",
    "degrees_of_freedom = min(n_orders_a - 1, n_orders_b - 1)\n",
    "\n",
    "\n",
    "p_value = st.t.sf(np.abs(t_statistic), df=degrees_of_freedom) * 2  # Multiplicar por 2 para una prueba de dos colas\n",
    "\n",
    "\n",
    "print(f\"Tamaño promedio de pedido A: {mean_order_value_a:.2f}\")\n",
    "print(f\"Tamaño promedio de pedido B: {mean_order_value_b:.2f}\")\n",
    "print(f\"Estadístico t: {t_statistic:.4f}\")\n",
    "print(f\"P-Value: {p_value:.4f}\")\n",
    "\n",
    "if p_value < 0.05:\n",
    "    print(\"Hay una diferencia significativa en el tamaño promedio de los pedidos entre los grupos A y B.\")\n",
    "else:\n",
    "    print(\"No hay una diferencia significativa en el tamaño promedio de los pedidos entre los grupos A y B.\")\n"
   ]
  },
  {
   "cell_type": "markdown",
   "metadata": {},
   "source": [
    "## Interpretación de los Resultados:\n",
    "### Tamaño promedio de pedido A: 115.90 y Tamaño promedio de pedido B: 145.06:\n",
    "\n",
    "- El grupo B tiene un tamaño promedio de pedido mayor que el grupo A. Sin embargo, aunque parece que los usuarios del grupo B están gastando más en promedio por pedido, esta diferencia no es lo suficientemente grande como para ser considerada significativa desde un punto de vista estadístico.\n",
    "\n",
    "### Estadístico t: -0.8886:\n",
    "- El valor del estadístico t indica la relación entre las medias de ambos grupos, considerando la variabilidad de los datos. En este caso, el valor es cercano a 0, lo que indica que la diferencia entre las medias no es considerable.\n",
    "\n",
    "### P-Value: 0.3746:\n",
    "- El P-Value de 0.3746 es mayor al umbral común de 0.05 (5%), lo que significa que no podemos rechazar la hipótesis nula de que no hay una diferencia significativa entre los tamaños promedio de los pedidos de los grupos A y B. En otras palabras, cualquier diferencia observada puede deberse al azar.\n",
    "\n",
    "### Conclusión:\n",
    "No hay una diferencia significativa en el tamaño promedio de los pedidos entre los grupos A y B. A pesar de que el grupo B parece tener un tamaño de pedido mayor, estadísticamente esta diferencia no es relevante. Por lo tanto, no podemos afirmar con certeza que los cambios aplicados al grupo B han impactado significativamente en el tamaño promedio de los pedidos."
   ]
  },
  {
   "cell_type": "markdown",
   "metadata": {},
   "source": [
    "## 2.11Encuentra la significancia estadística de la diferencia en la conversión entre los grupos utilizando los datos filtrados. Haz conclusiones y conjeturas.\n"
   ]
  },
  {
   "cell_type": "code",
   "execution_count": 203,
   "metadata": {},
   "outputs": [],
   "source": [
    "percentil_99_revenue = orders['revenue'].quantile(0.99)\n",
    "orders_filtrados = orders[orders['revenue'] <= percentil_99_revenue]\n"
   ]
  },
  {
   "cell_type": "code",
   "execution_count": 204,
   "metadata": {},
   "outputs": [
    {
     "data": {
      "text/html": [
       "<div>\n",
       "<style scoped>\n",
       "    .dataframe tbody tr th:only-of-type {\n",
       "        vertical-align: middle;\n",
       "    }\n",
       "\n",
       "    .dataframe tbody tr th {\n",
       "        vertical-align: top;\n",
       "    }\n",
       "\n",
       "    .dataframe thead th {\n",
       "        text-align: right;\n",
       "    }\n",
       "</style>\n",
       "<table border=\"1\" class=\"dataframe\">\n",
       "  <thead>\n",
       "    <tr style=\"text-align: right;\">\n",
       "      <th></th>\n",
       "      <th>date</th>\n",
       "      <th>group</th>\n",
       "      <th>n_pedidos</th>\n",
       "      <th>visits</th>\n",
       "      <th>tasa_conversion</th>\n",
       "    </tr>\n",
       "  </thead>\n",
       "  <tbody>\n",
       "    <tr>\n",
       "      <th>0</th>\n",
       "      <td>2019-08-01</td>\n",
       "      <td>A</td>\n",
       "      <td>24</td>\n",
       "      <td>719</td>\n",
       "      <td>0.033380</td>\n",
       "    </tr>\n",
       "    <tr>\n",
       "      <th>1</th>\n",
       "      <td>2019-08-01</td>\n",
       "      <td>B</td>\n",
       "      <td>21</td>\n",
       "      <td>713</td>\n",
       "      <td>0.029453</td>\n",
       "    </tr>\n",
       "    <tr>\n",
       "      <th>2</th>\n",
       "      <td>2019-08-02</td>\n",
       "      <td>A</td>\n",
       "      <td>20</td>\n",
       "      <td>619</td>\n",
       "      <td>0.032310</td>\n",
       "    </tr>\n",
       "    <tr>\n",
       "      <th>3</th>\n",
       "      <td>2019-08-02</td>\n",
       "      <td>B</td>\n",
       "      <td>24</td>\n",
       "      <td>581</td>\n",
       "      <td>0.041308</td>\n",
       "    </tr>\n",
       "    <tr>\n",
       "      <th>4</th>\n",
       "      <td>2019-08-03</td>\n",
       "      <td>A</td>\n",
       "      <td>24</td>\n",
       "      <td>507</td>\n",
       "      <td>0.047337</td>\n",
       "    </tr>\n",
       "  </tbody>\n",
       "</table>\n",
       "</div>"
      ],
      "text/plain": [
       "        date group  n_pedidos  visits  tasa_conversion\n",
       "0 2019-08-01     A         24     719         0.033380\n",
       "1 2019-08-01     B         21     713         0.029453\n",
       "2 2019-08-02     A         20     619         0.032310\n",
       "3 2019-08-02     B         24     581         0.041308\n",
       "4 2019-08-03     A         24     507         0.047337"
      ]
     },
     "execution_count": 204,
     "metadata": {},
     "output_type": "execute_result"
    }
   ],
   "source": [
    "# Calcular el número de pedidos por día y grupo\n",
    "pedidos_por_dia = orders_filtrados.groupby(['date', 'group']).agg({'transactionid': 'count'}).reset_index()\n",
    "pedidos_por_dia.rename(columns={'transactionid': 'n_pedidos'}, inplace=True)\n",
    "\n",
    "# Unir el número de visitas por día y grupo\n",
    "conversiones = pd.merge(pedidos_por_dia, visits, on=['date', 'group'])\n",
    "\n",
    "# Calcular la tasa de conversión\n",
    "conversiones['tasa_conversion'] = conversiones['n_pedidos'] / conversiones['visits']\n",
    "\n",
    "# Verificar los primeros resultados\n",
    "conversiones.head()\n"
   ]
  },
  {
   "cell_type": "code",
   "execution_count": 205,
   "metadata": {},
   "outputs": [
    {
     "name": "stdout",
     "output_type": "stream",
     "text": [
      "Estadístico t: -1.7587927242641135\n",
      "Valor p: 0.0837951128774376\n",
      "No hay una diferencia significativa en la tasa de conversión entre los grupos.\n"
     ]
    }
   ],
   "source": [
    "# Separar las tasas de conversión por grupo\n",
    "conversion_a = conversiones[conversiones['group'] == 'A']['tasa_conversion']\n",
    "conversion_b = conversiones[conversiones['group'] == 'B']['tasa_conversion']\n",
    "\n",
    "# Aplicar la prueba t de Student para dos muestras independientes\n",
    "t_stat, p_value = stats.ttest_ind(conversion_a, conversion_b, equal_var=False)\n",
    "\n",
    "# Resultados\n",
    "print(f'Estadístico t: {t_stat}')\n",
    "print(f'Valor p: {p_value}')\n",
    "\n",
    "# Conclusiones\n",
    "if p_value < 0.05:\n",
    "    print(\"La diferencia en la tasa de conversión entre los grupos es estadísticamente significativa.\")\n",
    "else:\n",
    "    print(\"No hay una diferencia significativa en la tasa de conversión entre los grupos.\")\n"
   ]
  },
  {
   "cell_type": "markdown",
   "metadata": {},
   "source": [
    "## Análisis de significancia estadística\n",
    "- Se realizó una prueba t de Student para comparar la tasa de conversión diaria entre los grupos A y B. Los resultados fueron los siguientes:\n",
    "\n",
    "- Estadístico t: -1.7588\n",
    "- Valor p: 0.0838\n",
    "\n",
    "Dado que el valor p es mayor a 0.05, no se puede concluir que exista una diferencia estadísticamente significativa entre las tasas de conversión de los grupos A y B. Esto sugiere que cualquier diferencia observada entre las conversiones de ambos grupos podría deberse al azar y no a un efecto real del experimento."
   ]
  },
  {
   "cell_type": "markdown",
   "metadata": {},
   "source": [
    "## 2.12 Encuentra la significancia estadística de la diferencia en el tamaño promedio de pedido entre los grupos utilizando los datos filtrados. Haz conclusiones y conjeturas."
   ]
  },
  {
   "cell_type": "code",
   "execution_count": 206,
   "metadata": {},
   "outputs": [],
   "source": [
    "# Filtrar pedidos por percentil 95 para 'revenue'\n",
    "percentil_95_revenue = orders['revenue'].quantile(0.95)\n",
    "orders_filtrados = orders[orders['revenue'] <= percentil_95_revenue]\n",
    "\n",
    "# Calcular el tamaño promedio de pedido para cada grupo\n",
    "mean_order_value_a = orders_filtrados[orders_filtrados['group'] == 'A']['revenue'].mean()\n",
    "mean_order_value_b = orders_filtrados[orders_filtrados['group'] == 'B']['revenue'].mean()\n",
    "\n",
    "# Calcular el número de pedidos en cada grupo\n",
    "n_orders_a = orders_filtrados[orders_filtrados['group'] == 'A']['transactionid'].count()\n",
    "n_orders_b = orders_filtrados[orders_filtrados['group'] == 'B']['transactionid'].count()\n",
    "\n",
    "# Calcular la desviación estándar de los ingresos para cada grupo\n",
    "std_dev_a = orders_filtrados[orders_filtrados['group'] == 'A']['revenue'].std()\n",
    "std_dev_b = orders_filtrados[orders_filtrados['group'] == 'B']['revenue'].std()\n"
   ]
  },
  {
   "cell_type": "code",
   "execution_count": 207,
   "metadata": {},
   "outputs": [
    {
     "name": "stdout",
     "output_type": "stream",
     "text": [
      "Tamaño promedio de pedido A (filtrado): 83.27\n",
      "Tamaño promedio de pedido B (filtrado): 81.94\n",
      "Estadístico t: 0.2500\n",
      "P-Value: 0.8027\n",
      "No hay una diferencia significativa en el tamaño promedio de los pedidos entre los grupos A y B (datos filtrados).\n"
     ]
    }
   ],
   "source": [
    "\n",
    "# Calcular el estadístico t\n",
    "t_statistic = (mean_order_value_a - mean_order_value_b) / np.sqrt((std_dev_a**2 / n_orders_a) + (std_dev_b**2 / n_orders_b))\n",
    "\n",
    "# Grados de libertad mínimos\n",
    "degrees_of_freedom = min(n_orders_a - 1, n_orders_b - 1)\n",
    "\n",
    "# Calcular el valor p (prueba de dos colas)\n",
    "p_value = st.t.sf(np.abs(t_statistic), df=degrees_of_freedom) * 2\n",
    "\n",
    "\n",
    "print(f\"Tamaño promedio de pedido A (filtrado): {mean_order_value_a:.2f}\")\n",
    "print(f\"Tamaño promedio de pedido B (filtrado): {mean_order_value_b:.2f}\")\n",
    "print(f\"Estadístico t: {t_statistic:.4f}\")\n",
    "print(f\"P-Value: {p_value:.4f}\")\n",
    "\n",
    "\n",
    "if p_value < 0.05:\n",
    "    print(\"Hay una diferencia significativa en el tamaño promedio de los pedidos entre los grupos A y B (datos filtrados).\")\n",
    "else:\n",
    "    print(\"No hay una diferencia significativa en el tamaño promedio de los pedidos entre los grupos A y B (datos filtrados).\")"
   ]
  },
  {
   "cell_type": "markdown",
   "metadata": {},
   "source": [
    "## Análisis del tamaño promedio de pedido\n",
    "Se realizó un análisis comparativo del tamaño promedio de los pedidos entre los grupos A y B utilizando datos filtrados. Los resultados son los siguientes:\n",
    "\n",
    "- Tamaño promedio de pedido A (filtrado): 83.27\n",
    "- Tamaño promedio de pedido B (filtrado): 81.94\n",
    "- Estadístico t: 0.2500\n",
    "- Valor p: 0.8027\n",
    "\n",
    "Dado que el valor p es significativamente mayor que 0.05, no se puede concluir que exista una diferencia estadísticamente significativa en el tamaño promedio de los pedidos entre los grupos A y B. Esto sugiere que cualquier variación observada en los tamaños de pedido entre los grupos podría atribuirse al azar y no a un efecto real del experimento."
   ]
  },
  {
   "cell_type": "markdown",
   "metadata": {},
   "source": [
    "## 3.1 Toma una decisión basada en los resultados de la prueba. Las decisiones posibles son: \n",
    "- 1. Para la prueba, considera a uno de los grupos como líder. \n",
    "- 2. Para la prueba, concluye que no hay diferencia entre los grupos. \n",
    "- 3. Continúa la prueba."
   ]
  },
  {
   "cell_type": "markdown",
   "metadata": {},
   "source": [
    "# Conclusiones Generales:\n",
    "\n",
    "A partir del análisis de los datos disponibles, no se ha encontrado evidencia de que exista una diferencia significativa entre los grupos A y B en cuanto a la tasa de conversión y el tamaño promedio de los pedidos. En todos los análisis realizados, los valores estadísticos sugieren que las variaciones observadas podrían deberse al azar, lo que indica que los cambios implementados en el grupo B no tuvieron un impacto significativo desde un punto de vista estadístico.\n",
    "\n",
    "- Tasa de conversión: Aunque los resultados muestran que el grupo B tuvo un rendimiento numéricamente superior en algunos casos, esta diferencia no es suficiente para ser considerada concluyente. En ambos escenarios (con y sin filtrado), los valores p fueron mayores a 0.05, lo que implica que las diferencias no son estadísticamente significativas.\n",
    "\n",
    "- Tamaño promedio de los pedidos: En este caso, observamos que el grupo B presenta un tamaño promedio de pedido mayor en los datos sin filtrar, pero al analizar la significancia estadística, esta diferencia no resulta relevante. Incluso, en los datos filtrados, los tamaños promedio entre ambos grupos son prácticamente iguales.\n",
    "\n",
    "### Explicación del Resultado:\n",
    "El análisis se basó en pruebas de significancia estadística, particularmente la prueba t de Student, para evaluar si las diferencias observadas entre los grupos A y B pueden atribuirse a los cambios implementados o si podrían ser el resultado del azar.\n",
    "\n",
    "### Hipótesis Nula y Alternativa: \n",
    "- Se ha trabajado bajo la hipótesis nula, que establece que no hay una diferencia significativa entre ambos grupos. Para rechazar esta hipótesis, el valor p debe ser menor a 0.05. En este caso, los valores p obtenidos en todos los análisis superan este umbral, lo que indica que las diferencias observadas entre los grupos no son significativas.\n",
    "\n",
    "### Resultados del Estadístico t: \n",
    "- El estadístico t se utiliza para comparar las medias de ambos grupos. En nuestros análisis, los valores obtenidos, tanto positivos como negativos, están cercanos a 0 o dentro de un rango donde las diferencias no son significativas. Esto sugiere que cualquier variación en las métricas entre los grupos es pequeña y podría atribuirse al azar.\n",
    "\n",
    "### Impacto de los Cambios: \n",
    "- Si bien hubo algunas variaciones en los resultados de ambos grupos, estadísticamente no se puede afirmar que los cambios implementados en el grupo B hayan generado un efecto significativo. Es probable que factores externos o la variabilidad propia de los datos hayan influido en las diferencias observadas.\n",
    "\n",
    "En resumen, las diferencias encontradas en las tasas de conversión y el tamaño promedio de los pedidos entre los grupos A y B no son lo suficientemente grandes como para ser consideradas estadísticamente significativas. Esto sugiere que los cambios implementados en el grupo B no han tenido un impacto claro."
   ]
  }
 ],
 "metadata": {
  "kernelspec": {
   "display_name": "Python 3",
   "language": "python",
   "name": "python3"
  },
  "language_info": {
   "codemirror_mode": {
    "name": "ipython",
    "version": 3
   },
   "file_extension": ".py",
   "mimetype": "text/x-python",
   "name": "python",
   "nbconvert_exporter": "python",
   "pygments_lexer": "ipython3",
   "version": "3.11.9"
  }
 },
 "nbformat": 4,
 "nbformat_minor": 2
}
